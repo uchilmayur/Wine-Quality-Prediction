{
  "nbformat": 4,
  "nbformat_minor": 0,
  "metadata": {
    "colab": {
      "name": "Wine Quality Prediction using different ML",
      "provenance": [],
      "collapsed_sections": []
    },
    "kernelspec": {
      "name": "python3",
      "display_name": "Python 3"
    },
    "language_info": {
      "name": "python"
    },
    "widgets": {
      "application/vnd.jupyter.widget-state+json": {
        "8b4336587d7e45d0a0f3c06125f0300a": {
          "model_module": "@jupyter-widgets/controls",
          "model_name": "HBoxModel",
          "model_module_version": "1.5.0",
          "state": {
            "_dom_classes": [],
            "_model_module": "@jupyter-widgets/controls",
            "_model_module_version": "1.5.0",
            "_model_name": "HBoxModel",
            "_view_count": null,
            "_view_module": "@jupyter-widgets/controls",
            "_view_module_version": "1.5.0",
            "_view_name": "HBoxView",
            "box_style": "",
            "children": [
              "IPY_MODEL_935af7e027a84991a6b15faa8e2f7848",
              "IPY_MODEL_e834967c928d41a8bd0a8d4e1014b7fd",
              "IPY_MODEL_4580a7cf934745689b89a59fb8c6f691"
            ],
            "layout": "IPY_MODEL_daa00924fb6c49b486f594cb35e16835"
          }
        },
        "935af7e027a84991a6b15faa8e2f7848": {
          "model_module": "@jupyter-widgets/controls",
          "model_name": "HTMLModel",
          "model_module_version": "1.5.0",
          "state": {
            "_dom_classes": [],
            "_model_module": "@jupyter-widgets/controls",
            "_model_module_version": "1.5.0",
            "_model_name": "HTMLModel",
            "_view_count": null,
            "_view_module": "@jupyter-widgets/controls",
            "_view_module_version": "1.5.0",
            "_view_name": "HTMLView",
            "description": "",
            "description_tooltip": null,
            "layout": "IPY_MODEL_82fd03176dea4437af6428e69fabf2e5",
            "placeholder": "​",
            "style": "IPY_MODEL_d11444a1fd084fb39d9830371ac7442c",
            "value": "100%"
          }
        },
        "e834967c928d41a8bd0a8d4e1014b7fd": {
          "model_module": "@jupyter-widgets/controls",
          "model_name": "FloatProgressModel",
          "model_module_version": "1.5.0",
          "state": {
            "_dom_classes": [],
            "_model_module": "@jupyter-widgets/controls",
            "_model_module_version": "1.5.0",
            "_model_name": "FloatProgressModel",
            "_view_count": null,
            "_view_module": "@jupyter-widgets/controls",
            "_view_module_version": "1.5.0",
            "_view_name": "ProgressView",
            "bar_style": "success",
            "description": "",
            "description_tooltip": null,
            "layout": "IPY_MODEL_37e4a611a4584b0b88058efbd19ae908",
            "max": 10,
            "min": 0,
            "orientation": "horizontal",
            "style": "IPY_MODEL_21570eecb31a4ad2b7949e5d88303098",
            "value": 10
          }
        },
        "4580a7cf934745689b89a59fb8c6f691": {
          "model_module": "@jupyter-widgets/controls",
          "model_name": "HTMLModel",
          "model_module_version": "1.5.0",
          "state": {
            "_dom_classes": [],
            "_model_module": "@jupyter-widgets/controls",
            "_model_module_version": "1.5.0",
            "_model_name": "HTMLModel",
            "_view_count": null,
            "_view_module": "@jupyter-widgets/controls",
            "_view_module_version": "1.5.0",
            "_view_name": "HTMLView",
            "description": "",
            "description_tooltip": null,
            "layout": "IPY_MODEL_ef6f9fe5427c4a29a7e24c589d80495f",
            "placeholder": "​",
            "style": "IPY_MODEL_008e6fe8915346beb73a04678941492a",
            "value": " 10/10 [01:56&lt;00:00, 12.99s/it]"
          }
        },
        "daa00924fb6c49b486f594cb35e16835": {
          "model_module": "@jupyter-widgets/base",
          "model_name": "LayoutModel",
          "model_module_version": "1.2.0",
          "state": {
            "_model_module": "@jupyter-widgets/base",
            "_model_module_version": "1.2.0",
            "_model_name": "LayoutModel",
            "_view_count": null,
            "_view_module": "@jupyter-widgets/base",
            "_view_module_version": "1.2.0",
            "_view_name": "LayoutView",
            "align_content": null,
            "align_items": null,
            "align_self": null,
            "border": null,
            "bottom": null,
            "display": null,
            "flex": null,
            "flex_flow": null,
            "grid_area": null,
            "grid_auto_columns": null,
            "grid_auto_flow": null,
            "grid_auto_rows": null,
            "grid_column": null,
            "grid_gap": null,
            "grid_row": null,
            "grid_template_areas": null,
            "grid_template_columns": null,
            "grid_template_rows": null,
            "height": null,
            "justify_content": null,
            "justify_items": null,
            "left": null,
            "margin": null,
            "max_height": null,
            "max_width": null,
            "min_height": null,
            "min_width": null,
            "object_fit": null,
            "object_position": null,
            "order": null,
            "overflow": null,
            "overflow_x": null,
            "overflow_y": null,
            "padding": null,
            "right": null,
            "top": null,
            "visibility": null,
            "width": null
          }
        },
        "82fd03176dea4437af6428e69fabf2e5": {
          "model_module": "@jupyter-widgets/base",
          "model_name": "LayoutModel",
          "model_module_version": "1.2.0",
          "state": {
            "_model_module": "@jupyter-widgets/base",
            "_model_module_version": "1.2.0",
            "_model_name": "LayoutModel",
            "_view_count": null,
            "_view_module": "@jupyter-widgets/base",
            "_view_module_version": "1.2.0",
            "_view_name": "LayoutView",
            "align_content": null,
            "align_items": null,
            "align_self": null,
            "border": null,
            "bottom": null,
            "display": null,
            "flex": null,
            "flex_flow": null,
            "grid_area": null,
            "grid_auto_columns": null,
            "grid_auto_flow": null,
            "grid_auto_rows": null,
            "grid_column": null,
            "grid_gap": null,
            "grid_row": null,
            "grid_template_areas": null,
            "grid_template_columns": null,
            "grid_template_rows": null,
            "height": null,
            "justify_content": null,
            "justify_items": null,
            "left": null,
            "margin": null,
            "max_height": null,
            "max_width": null,
            "min_height": null,
            "min_width": null,
            "object_fit": null,
            "object_position": null,
            "order": null,
            "overflow": null,
            "overflow_x": null,
            "overflow_y": null,
            "padding": null,
            "right": null,
            "top": null,
            "visibility": null,
            "width": null
          }
        },
        "d11444a1fd084fb39d9830371ac7442c": {
          "model_module": "@jupyter-widgets/controls",
          "model_name": "DescriptionStyleModel",
          "model_module_version": "1.5.0",
          "state": {
            "_model_module": "@jupyter-widgets/controls",
            "_model_module_version": "1.5.0",
            "_model_name": "DescriptionStyleModel",
            "_view_count": null,
            "_view_module": "@jupyter-widgets/base",
            "_view_module_version": "1.2.0",
            "_view_name": "StyleView",
            "description_width": ""
          }
        },
        "37e4a611a4584b0b88058efbd19ae908": {
          "model_module": "@jupyter-widgets/base",
          "model_name": "LayoutModel",
          "model_module_version": "1.2.0",
          "state": {
            "_model_module": "@jupyter-widgets/base",
            "_model_module_version": "1.2.0",
            "_model_name": "LayoutModel",
            "_view_count": null,
            "_view_module": "@jupyter-widgets/base",
            "_view_module_version": "1.2.0",
            "_view_name": "LayoutView",
            "align_content": null,
            "align_items": null,
            "align_self": null,
            "border": null,
            "bottom": null,
            "display": null,
            "flex": null,
            "flex_flow": null,
            "grid_area": null,
            "grid_auto_columns": null,
            "grid_auto_flow": null,
            "grid_auto_rows": null,
            "grid_column": null,
            "grid_gap": null,
            "grid_row": null,
            "grid_template_areas": null,
            "grid_template_columns": null,
            "grid_template_rows": null,
            "height": null,
            "justify_content": null,
            "justify_items": null,
            "left": null,
            "margin": null,
            "max_height": null,
            "max_width": null,
            "min_height": null,
            "min_width": null,
            "object_fit": null,
            "object_position": null,
            "order": null,
            "overflow": null,
            "overflow_x": null,
            "overflow_y": null,
            "padding": null,
            "right": null,
            "top": null,
            "visibility": null,
            "width": null
          }
        },
        "21570eecb31a4ad2b7949e5d88303098": {
          "model_module": "@jupyter-widgets/controls",
          "model_name": "ProgressStyleModel",
          "model_module_version": "1.5.0",
          "state": {
            "_model_module": "@jupyter-widgets/controls",
            "_model_module_version": "1.5.0",
            "_model_name": "ProgressStyleModel",
            "_view_count": null,
            "_view_module": "@jupyter-widgets/base",
            "_view_module_version": "1.2.0",
            "_view_name": "StyleView",
            "bar_color": null,
            "description_width": ""
          }
        },
        "ef6f9fe5427c4a29a7e24c589d80495f": {
          "model_module": "@jupyter-widgets/base",
          "model_name": "LayoutModel",
          "model_module_version": "1.2.0",
          "state": {
            "_model_module": "@jupyter-widgets/base",
            "_model_module_version": "1.2.0",
            "_model_name": "LayoutModel",
            "_view_count": null,
            "_view_module": "@jupyter-widgets/base",
            "_view_module_version": "1.2.0",
            "_view_name": "LayoutView",
            "align_content": null,
            "align_items": null,
            "align_self": null,
            "border": null,
            "bottom": null,
            "display": null,
            "flex": null,
            "flex_flow": null,
            "grid_area": null,
            "grid_auto_columns": null,
            "grid_auto_flow": null,
            "grid_auto_rows": null,
            "grid_column": null,
            "grid_gap": null,
            "grid_row": null,
            "grid_template_areas": null,
            "grid_template_columns": null,
            "grid_template_rows": null,
            "height": null,
            "justify_content": null,
            "justify_items": null,
            "left": null,
            "margin": null,
            "max_height": null,
            "max_width": null,
            "min_height": null,
            "min_width": null,
            "object_fit": null,
            "object_position": null,
            "order": null,
            "overflow": null,
            "overflow_x": null,
            "overflow_y": null,
            "padding": null,
            "right": null,
            "top": null,
            "visibility": null,
            "width": null
          }
        },
        "008e6fe8915346beb73a04678941492a": {
          "model_module": "@jupyter-widgets/controls",
          "model_name": "DescriptionStyleModel",
          "model_module_version": "1.5.0",
          "state": {
            "_model_module": "@jupyter-widgets/controls",
            "_model_module_version": "1.5.0",
            "_model_name": "DescriptionStyleModel",
            "_view_count": null,
            "_view_module": "@jupyter-widgets/base",
            "_view_module_version": "1.2.0",
            "_view_name": "StyleView",
            "description_width": ""
          }
        },
        "2f768e949aef485497b26e1b2d8d8813": {
          "model_module": "@jupyter-widgets/controls",
          "model_name": "HBoxModel",
          "model_module_version": "1.5.0",
          "state": {
            "_dom_classes": [],
            "_model_module": "@jupyter-widgets/controls",
            "_model_module_version": "1.5.0",
            "_model_name": "HBoxModel",
            "_view_count": null,
            "_view_module": "@jupyter-widgets/controls",
            "_view_module_version": "1.5.0",
            "_view_name": "HBoxView",
            "box_style": "",
            "children": [
              "IPY_MODEL_e14953106e794d8b962c5fe458761dd2",
              "IPY_MODEL_8e13dbaa127f44e7960a1ed3d533e8b6",
              "IPY_MODEL_f9fb0403f00e4f57af24a45558c6e582"
            ],
            "layout": "IPY_MODEL_8a575d2c1614491888fccf2f8b22a44f"
          }
        },
        "e14953106e794d8b962c5fe458761dd2": {
          "model_module": "@jupyter-widgets/controls",
          "model_name": "HTMLModel",
          "model_module_version": "1.5.0",
          "state": {
            "_dom_classes": [],
            "_model_module": "@jupyter-widgets/controls",
            "_model_module_version": "1.5.0",
            "_model_name": "HTMLModel",
            "_view_count": null,
            "_view_module": "@jupyter-widgets/controls",
            "_view_module_version": "1.5.0",
            "_view_name": "HTMLView",
            "description": "",
            "description_tooltip": null,
            "layout": "IPY_MODEL_efc176690954435182615b54e14516a2",
            "placeholder": "​",
            "style": "IPY_MODEL_4c66f595129c4aeab9c4dc74a726176d",
            "value": "100%"
          }
        },
        "8e13dbaa127f44e7960a1ed3d533e8b6": {
          "model_module": "@jupyter-widgets/controls",
          "model_name": "FloatProgressModel",
          "model_module_version": "1.5.0",
          "state": {
            "_dom_classes": [],
            "_model_module": "@jupyter-widgets/controls",
            "_model_module_version": "1.5.0",
            "_model_name": "FloatProgressModel",
            "_view_count": null,
            "_view_module": "@jupyter-widgets/controls",
            "_view_module_version": "1.5.0",
            "_view_name": "ProgressView",
            "bar_style": "success",
            "description": "",
            "description_tooltip": null,
            "layout": "IPY_MODEL_a5ad65ec06fa4230ba05bb4870004cfa",
            "max": 10,
            "min": 0,
            "orientation": "horizontal",
            "style": "IPY_MODEL_bc21fed8d1b543a686cc29802cad76d1",
            "value": 10
          }
        },
        "f9fb0403f00e4f57af24a45558c6e582": {
          "model_module": "@jupyter-widgets/controls",
          "model_name": "HTMLModel",
          "model_module_version": "1.5.0",
          "state": {
            "_dom_classes": [],
            "_model_module": "@jupyter-widgets/controls",
            "_model_module_version": "1.5.0",
            "_model_name": "HTMLModel",
            "_view_count": null,
            "_view_module": "@jupyter-widgets/controls",
            "_view_module_version": "1.5.0",
            "_view_name": "HTMLView",
            "description": "",
            "description_tooltip": null,
            "layout": "IPY_MODEL_dd44db26a6d548afae0a13400df5bce1",
            "placeholder": "​",
            "style": "IPY_MODEL_acd8855787384baaa7976b04d7d51b49",
            "value": " 10/10 [01:06&lt;00:00,  8.87s/it]"
          }
        },
        "8a575d2c1614491888fccf2f8b22a44f": {
          "model_module": "@jupyter-widgets/base",
          "model_name": "LayoutModel",
          "model_module_version": "1.2.0",
          "state": {
            "_model_module": "@jupyter-widgets/base",
            "_model_module_version": "1.2.0",
            "_model_name": "LayoutModel",
            "_view_count": null,
            "_view_module": "@jupyter-widgets/base",
            "_view_module_version": "1.2.0",
            "_view_name": "LayoutView",
            "align_content": null,
            "align_items": null,
            "align_self": null,
            "border": null,
            "bottom": null,
            "display": null,
            "flex": null,
            "flex_flow": null,
            "grid_area": null,
            "grid_auto_columns": null,
            "grid_auto_flow": null,
            "grid_auto_rows": null,
            "grid_column": null,
            "grid_gap": null,
            "grid_row": null,
            "grid_template_areas": null,
            "grid_template_columns": null,
            "grid_template_rows": null,
            "height": null,
            "justify_content": null,
            "justify_items": null,
            "left": null,
            "margin": null,
            "max_height": null,
            "max_width": null,
            "min_height": null,
            "min_width": null,
            "object_fit": null,
            "object_position": null,
            "order": null,
            "overflow": null,
            "overflow_x": null,
            "overflow_y": null,
            "padding": null,
            "right": null,
            "top": null,
            "visibility": null,
            "width": null
          }
        },
        "efc176690954435182615b54e14516a2": {
          "model_module": "@jupyter-widgets/base",
          "model_name": "LayoutModel",
          "model_module_version": "1.2.0",
          "state": {
            "_model_module": "@jupyter-widgets/base",
            "_model_module_version": "1.2.0",
            "_model_name": "LayoutModel",
            "_view_count": null,
            "_view_module": "@jupyter-widgets/base",
            "_view_module_version": "1.2.0",
            "_view_name": "LayoutView",
            "align_content": null,
            "align_items": null,
            "align_self": null,
            "border": null,
            "bottom": null,
            "display": null,
            "flex": null,
            "flex_flow": null,
            "grid_area": null,
            "grid_auto_columns": null,
            "grid_auto_flow": null,
            "grid_auto_rows": null,
            "grid_column": null,
            "grid_gap": null,
            "grid_row": null,
            "grid_template_areas": null,
            "grid_template_columns": null,
            "grid_template_rows": null,
            "height": null,
            "justify_content": null,
            "justify_items": null,
            "left": null,
            "margin": null,
            "max_height": null,
            "max_width": null,
            "min_height": null,
            "min_width": null,
            "object_fit": null,
            "object_position": null,
            "order": null,
            "overflow": null,
            "overflow_x": null,
            "overflow_y": null,
            "padding": null,
            "right": null,
            "top": null,
            "visibility": null,
            "width": null
          }
        },
        "4c66f595129c4aeab9c4dc74a726176d": {
          "model_module": "@jupyter-widgets/controls",
          "model_name": "DescriptionStyleModel",
          "model_module_version": "1.5.0",
          "state": {
            "_model_module": "@jupyter-widgets/controls",
            "_model_module_version": "1.5.0",
            "_model_name": "DescriptionStyleModel",
            "_view_count": null,
            "_view_module": "@jupyter-widgets/base",
            "_view_module_version": "1.2.0",
            "_view_name": "StyleView",
            "description_width": ""
          }
        },
        "a5ad65ec06fa4230ba05bb4870004cfa": {
          "model_module": "@jupyter-widgets/base",
          "model_name": "LayoutModel",
          "model_module_version": "1.2.0",
          "state": {
            "_model_module": "@jupyter-widgets/base",
            "_model_module_version": "1.2.0",
            "_model_name": "LayoutModel",
            "_view_count": null,
            "_view_module": "@jupyter-widgets/base",
            "_view_module_version": "1.2.0",
            "_view_name": "LayoutView",
            "align_content": null,
            "align_items": null,
            "align_self": null,
            "border": null,
            "bottom": null,
            "display": null,
            "flex": null,
            "flex_flow": null,
            "grid_area": null,
            "grid_auto_columns": null,
            "grid_auto_flow": null,
            "grid_auto_rows": null,
            "grid_column": null,
            "grid_gap": null,
            "grid_row": null,
            "grid_template_areas": null,
            "grid_template_columns": null,
            "grid_template_rows": null,
            "height": null,
            "justify_content": null,
            "justify_items": null,
            "left": null,
            "margin": null,
            "max_height": null,
            "max_width": null,
            "min_height": null,
            "min_width": null,
            "object_fit": null,
            "object_position": null,
            "order": null,
            "overflow": null,
            "overflow_x": null,
            "overflow_y": null,
            "padding": null,
            "right": null,
            "top": null,
            "visibility": null,
            "width": null
          }
        },
        "bc21fed8d1b543a686cc29802cad76d1": {
          "model_module": "@jupyter-widgets/controls",
          "model_name": "ProgressStyleModel",
          "model_module_version": "1.5.0",
          "state": {
            "_model_module": "@jupyter-widgets/controls",
            "_model_module_version": "1.5.0",
            "_model_name": "ProgressStyleModel",
            "_view_count": null,
            "_view_module": "@jupyter-widgets/base",
            "_view_module_version": "1.2.0",
            "_view_name": "StyleView",
            "bar_color": null,
            "description_width": ""
          }
        },
        "dd44db26a6d548afae0a13400df5bce1": {
          "model_module": "@jupyter-widgets/base",
          "model_name": "LayoutModel",
          "model_module_version": "1.2.0",
          "state": {
            "_model_module": "@jupyter-widgets/base",
            "_model_module_version": "1.2.0",
            "_model_name": "LayoutModel",
            "_view_count": null,
            "_view_module": "@jupyter-widgets/base",
            "_view_module_version": "1.2.0",
            "_view_name": "LayoutView",
            "align_content": null,
            "align_items": null,
            "align_self": null,
            "border": null,
            "bottom": null,
            "display": null,
            "flex": null,
            "flex_flow": null,
            "grid_area": null,
            "grid_auto_columns": null,
            "grid_auto_flow": null,
            "grid_auto_rows": null,
            "grid_column": null,
            "grid_gap": null,
            "grid_row": null,
            "grid_template_areas": null,
            "grid_template_columns": null,
            "grid_template_rows": null,
            "height": null,
            "justify_content": null,
            "justify_items": null,
            "left": null,
            "margin": null,
            "max_height": null,
            "max_width": null,
            "min_height": null,
            "min_width": null,
            "object_fit": null,
            "object_position": null,
            "order": null,
            "overflow": null,
            "overflow_x": null,
            "overflow_y": null,
            "padding": null,
            "right": null,
            "top": null,
            "visibility": null,
            "width": null
          }
        },
        "acd8855787384baaa7976b04d7d51b49": {
          "model_module": "@jupyter-widgets/controls",
          "model_name": "DescriptionStyleModel",
          "model_module_version": "1.5.0",
          "state": {
            "_model_module": "@jupyter-widgets/controls",
            "_model_module_version": "1.5.0",
            "_model_name": "DescriptionStyleModel",
            "_view_count": null,
            "_view_module": "@jupyter-widgets/base",
            "_view_module_version": "1.2.0",
            "_view_name": "StyleView",
            "description_width": ""
          }
        },
        "1d08339dd55e4baca6ff828ada45d571": {
          "model_module": "@jupyter-widgets/controls",
          "model_name": "HBoxModel",
          "model_module_version": "1.5.0",
          "state": {
            "_dom_classes": [],
            "_model_module": "@jupyter-widgets/controls",
            "_model_module_version": "1.5.0",
            "_model_name": "HBoxModel",
            "_view_count": null,
            "_view_module": "@jupyter-widgets/controls",
            "_view_module_version": "1.5.0",
            "_view_name": "HBoxView",
            "box_style": "",
            "children": [
              "IPY_MODEL_3f790f213a9f433c891fd1979159fc13",
              "IPY_MODEL_0b1f2b0719c4487fb5750cad493112b7",
              "IPY_MODEL_bcb75669b0b6408b96b412cd6db8e596"
            ],
            "layout": "IPY_MODEL_10333f9ad6f14d4da31a2c46bfc31c31"
          }
        },
        "3f790f213a9f433c891fd1979159fc13": {
          "model_module": "@jupyter-widgets/controls",
          "model_name": "HTMLModel",
          "model_module_version": "1.5.0",
          "state": {
            "_dom_classes": [],
            "_model_module": "@jupyter-widgets/controls",
            "_model_module_version": "1.5.0",
            "_model_name": "HTMLModel",
            "_view_count": null,
            "_view_module": "@jupyter-widgets/controls",
            "_view_module_version": "1.5.0",
            "_view_name": "HTMLView",
            "description": "",
            "description_tooltip": null,
            "layout": "IPY_MODEL_8d37cf6843cb4c45b2340192fd7d38ce",
            "placeholder": "​",
            "style": "IPY_MODEL_68bc0c7ac4ca424d830aa5c8288f6507",
            "value": "100%"
          }
        },
        "0b1f2b0719c4487fb5750cad493112b7": {
          "model_module": "@jupyter-widgets/controls",
          "model_name": "FloatProgressModel",
          "model_module_version": "1.5.0",
          "state": {
            "_dom_classes": [],
            "_model_module": "@jupyter-widgets/controls",
            "_model_module_version": "1.5.0",
            "_model_name": "FloatProgressModel",
            "_view_count": null,
            "_view_module": "@jupyter-widgets/controls",
            "_view_module_version": "1.5.0",
            "_view_name": "ProgressView",
            "bar_style": "success",
            "description": "",
            "description_tooltip": null,
            "layout": "IPY_MODEL_00971966e9044f82871adfe24ff82344",
            "max": 10,
            "min": 0,
            "orientation": "horizontal",
            "style": "IPY_MODEL_af9a813fbb354d7b92c1f6333d017fb7",
            "value": 10
          }
        },
        "bcb75669b0b6408b96b412cd6db8e596": {
          "model_module": "@jupyter-widgets/controls",
          "model_name": "HTMLModel",
          "model_module_version": "1.5.0",
          "state": {
            "_dom_classes": [],
            "_model_module": "@jupyter-widgets/controls",
            "_model_module_version": "1.5.0",
            "_model_name": "HTMLModel",
            "_view_count": null,
            "_view_module": "@jupyter-widgets/controls",
            "_view_module_version": "1.5.0",
            "_view_name": "HTMLView",
            "description": "",
            "description_tooltip": null,
            "layout": "IPY_MODEL_3f5759643b4b439d9e6396fe0289ff31",
            "placeholder": "​",
            "style": "IPY_MODEL_dd324f53bfbc459881ed1acba80c0ea7",
            "value": " 10/10 [00:58&lt;00:00,  6.57s/it]"
          }
        },
        "10333f9ad6f14d4da31a2c46bfc31c31": {
          "model_module": "@jupyter-widgets/base",
          "model_name": "LayoutModel",
          "model_module_version": "1.2.0",
          "state": {
            "_model_module": "@jupyter-widgets/base",
            "_model_module_version": "1.2.0",
            "_model_name": "LayoutModel",
            "_view_count": null,
            "_view_module": "@jupyter-widgets/base",
            "_view_module_version": "1.2.0",
            "_view_name": "LayoutView",
            "align_content": null,
            "align_items": null,
            "align_self": null,
            "border": null,
            "bottom": null,
            "display": null,
            "flex": null,
            "flex_flow": null,
            "grid_area": null,
            "grid_auto_columns": null,
            "grid_auto_flow": null,
            "grid_auto_rows": null,
            "grid_column": null,
            "grid_gap": null,
            "grid_row": null,
            "grid_template_areas": null,
            "grid_template_columns": null,
            "grid_template_rows": null,
            "height": null,
            "justify_content": null,
            "justify_items": null,
            "left": null,
            "margin": null,
            "max_height": null,
            "max_width": null,
            "min_height": null,
            "min_width": null,
            "object_fit": null,
            "object_position": null,
            "order": null,
            "overflow": null,
            "overflow_x": null,
            "overflow_y": null,
            "padding": null,
            "right": null,
            "top": null,
            "visibility": null,
            "width": null
          }
        },
        "8d37cf6843cb4c45b2340192fd7d38ce": {
          "model_module": "@jupyter-widgets/base",
          "model_name": "LayoutModel",
          "model_module_version": "1.2.0",
          "state": {
            "_model_module": "@jupyter-widgets/base",
            "_model_module_version": "1.2.0",
            "_model_name": "LayoutModel",
            "_view_count": null,
            "_view_module": "@jupyter-widgets/base",
            "_view_module_version": "1.2.0",
            "_view_name": "LayoutView",
            "align_content": null,
            "align_items": null,
            "align_self": null,
            "border": null,
            "bottom": null,
            "display": null,
            "flex": null,
            "flex_flow": null,
            "grid_area": null,
            "grid_auto_columns": null,
            "grid_auto_flow": null,
            "grid_auto_rows": null,
            "grid_column": null,
            "grid_gap": null,
            "grid_row": null,
            "grid_template_areas": null,
            "grid_template_columns": null,
            "grid_template_rows": null,
            "height": null,
            "justify_content": null,
            "justify_items": null,
            "left": null,
            "margin": null,
            "max_height": null,
            "max_width": null,
            "min_height": null,
            "min_width": null,
            "object_fit": null,
            "object_position": null,
            "order": null,
            "overflow": null,
            "overflow_x": null,
            "overflow_y": null,
            "padding": null,
            "right": null,
            "top": null,
            "visibility": null,
            "width": null
          }
        },
        "68bc0c7ac4ca424d830aa5c8288f6507": {
          "model_module": "@jupyter-widgets/controls",
          "model_name": "DescriptionStyleModel",
          "model_module_version": "1.5.0",
          "state": {
            "_model_module": "@jupyter-widgets/controls",
            "_model_module_version": "1.5.0",
            "_model_name": "DescriptionStyleModel",
            "_view_count": null,
            "_view_module": "@jupyter-widgets/base",
            "_view_module_version": "1.2.0",
            "_view_name": "StyleView",
            "description_width": ""
          }
        },
        "00971966e9044f82871adfe24ff82344": {
          "model_module": "@jupyter-widgets/base",
          "model_name": "LayoutModel",
          "model_module_version": "1.2.0",
          "state": {
            "_model_module": "@jupyter-widgets/base",
            "_model_module_version": "1.2.0",
            "_model_name": "LayoutModel",
            "_view_count": null,
            "_view_module": "@jupyter-widgets/base",
            "_view_module_version": "1.2.0",
            "_view_name": "LayoutView",
            "align_content": null,
            "align_items": null,
            "align_self": null,
            "border": null,
            "bottom": null,
            "display": null,
            "flex": null,
            "flex_flow": null,
            "grid_area": null,
            "grid_auto_columns": null,
            "grid_auto_flow": null,
            "grid_auto_rows": null,
            "grid_column": null,
            "grid_gap": null,
            "grid_row": null,
            "grid_template_areas": null,
            "grid_template_columns": null,
            "grid_template_rows": null,
            "height": null,
            "justify_content": null,
            "justify_items": null,
            "left": null,
            "margin": null,
            "max_height": null,
            "max_width": null,
            "min_height": null,
            "min_width": null,
            "object_fit": null,
            "object_position": null,
            "order": null,
            "overflow": null,
            "overflow_x": null,
            "overflow_y": null,
            "padding": null,
            "right": null,
            "top": null,
            "visibility": null,
            "width": null
          }
        },
        "af9a813fbb354d7b92c1f6333d017fb7": {
          "model_module": "@jupyter-widgets/controls",
          "model_name": "ProgressStyleModel",
          "model_module_version": "1.5.0",
          "state": {
            "_model_module": "@jupyter-widgets/controls",
            "_model_module_version": "1.5.0",
            "_model_name": "ProgressStyleModel",
            "_view_count": null,
            "_view_module": "@jupyter-widgets/base",
            "_view_module_version": "1.2.0",
            "_view_name": "StyleView",
            "bar_color": null,
            "description_width": ""
          }
        },
        "3f5759643b4b439d9e6396fe0289ff31": {
          "model_module": "@jupyter-widgets/base",
          "model_name": "LayoutModel",
          "model_module_version": "1.2.0",
          "state": {
            "_model_module": "@jupyter-widgets/base",
            "_model_module_version": "1.2.0",
            "_model_name": "LayoutModel",
            "_view_count": null,
            "_view_module": "@jupyter-widgets/base",
            "_view_module_version": "1.2.0",
            "_view_name": "LayoutView",
            "align_content": null,
            "align_items": null,
            "align_self": null,
            "border": null,
            "bottom": null,
            "display": null,
            "flex": null,
            "flex_flow": null,
            "grid_area": null,
            "grid_auto_columns": null,
            "grid_auto_flow": null,
            "grid_auto_rows": null,
            "grid_column": null,
            "grid_gap": null,
            "grid_row": null,
            "grid_template_areas": null,
            "grid_template_columns": null,
            "grid_template_rows": null,
            "height": null,
            "justify_content": null,
            "justify_items": null,
            "left": null,
            "margin": null,
            "max_height": null,
            "max_width": null,
            "min_height": null,
            "min_width": null,
            "object_fit": null,
            "object_position": null,
            "order": null,
            "overflow": null,
            "overflow_x": null,
            "overflow_y": null,
            "padding": null,
            "right": null,
            "top": null,
            "visibility": null,
            "width": null
          }
        },
        "dd324f53bfbc459881ed1acba80c0ea7": {
          "model_module": "@jupyter-widgets/controls",
          "model_name": "DescriptionStyleModel",
          "model_module_version": "1.5.0",
          "state": {
            "_model_module": "@jupyter-widgets/controls",
            "_model_module_version": "1.5.0",
            "_model_name": "DescriptionStyleModel",
            "_view_count": null,
            "_view_module": "@jupyter-widgets/base",
            "_view_module_version": "1.2.0",
            "_view_name": "StyleView",
            "description_width": ""
          }
        }
      }
    }
  },
  "cells": [
    {
      "cell_type": "code",
      "execution_count": 66,
      "metadata": {
        "id": "kfZap9yBrI6-"
      },
      "outputs": [],
      "source": [
        "import numpy as np\n",
        "import pandas as pd\n",
        "import matplotlib.pyplot as plt\n",
        "plt.rcParams[\"figure.figsize\"] = (12,5)\n",
        "import seaborn as sns\n",
        "import xgboost as xgb\n",
        "import optuna\n",
        "\n",
        "from mlxtend.plotting import plot_learning_curves\n",
        "from sklearn.metrics import classification_report\n",
        "from sklearn.metrics import plot_confusion_matrix\n",
        "from imblearn.under_sampling import RandomUnderSampler\n",
        "from imblearn.over_sampling  import RandomOverSampler\n",
        "from sklearn.feature_selection import RFE\n",
        "from sklearn.model_selection import RandomizedSearchCV\n",
        "from sklearn.ensemble import RandomForestClassifier\n",
        "from lightgbm import LGBMClassifier\n",
        "from sklearn.ensemble import VotingClassifier\n",
        "from sklearn.metrics import roc_auc_score\n",
        "from sklearn.model_selection import cross_val_score\n",
        "from sklearn.metrics import accuracy_score ,confusion_matrix\n"
      ]
    },
    {
      "cell_type": "code",
      "source": [
        "df = pd.read_csv('/content/winequality_kaggle.csv')\n",
        "pd.set_option('display.max_columns', None)\n",
        "df.head()"
      ],
      "metadata": {
        "colab": {
          "base_uri": "https://localhost:8080/",
          "height": 206
        },
        "id": "iFzvsolFsMZu",
        "outputId": "833ea9c3-5a79-4872-8cc4-d5f462714290"
      },
      "execution_count": 67,
      "outputs": [
        {
          "output_type": "execute_result",
          "data": {
            "text/plain": [
              "   fixed acidity  volatile acidity  citric acid  residual sugar  chlorides  \\\n",
              "0            7.4              0.70         0.00             1.9      0.076   \n",
              "1            7.8              0.88         0.00             2.6      0.098   \n",
              "2            7.8              0.76         0.04             2.3      0.092   \n",
              "3           11.2              0.28         0.56             1.9      0.075   \n",
              "4            7.4              0.70         0.00             1.9      0.076   \n",
              "\n",
              "   free sulfur dioxide  total sulfur dioxide  density    pH  sulphates  \\\n",
              "0                 11.0                  34.0   0.9978  3.51       0.56   \n",
              "1                 25.0                  67.0   0.9968  3.20       0.68   \n",
              "2                 15.0                  54.0   0.9970  3.26       0.65   \n",
              "3                 17.0                  60.0   0.9980  3.16       0.58   \n",
              "4                 11.0                  34.0   0.9978  3.51       0.56   \n",
              "\n",
              "   alcohol  quality  \n",
              "0      9.4        5  \n",
              "1      9.8        5  \n",
              "2      9.8        5  \n",
              "3      9.8        6  \n",
              "4      9.4        5  "
            ],
            "text/html": [
              "\n",
              "  <div id=\"df-1592a360-3e9d-455e-bc7a-54e384d76e10\">\n",
              "    <div class=\"colab-df-container\">\n",
              "      <div>\n",
              "<style scoped>\n",
              "    .dataframe tbody tr th:only-of-type {\n",
              "        vertical-align: middle;\n",
              "    }\n",
              "\n",
              "    .dataframe tbody tr th {\n",
              "        vertical-align: top;\n",
              "    }\n",
              "\n",
              "    .dataframe thead th {\n",
              "        text-align: right;\n",
              "    }\n",
              "</style>\n",
              "<table border=\"1\" class=\"dataframe\">\n",
              "  <thead>\n",
              "    <tr style=\"text-align: right;\">\n",
              "      <th></th>\n",
              "      <th>fixed acidity</th>\n",
              "      <th>volatile acidity</th>\n",
              "      <th>citric acid</th>\n",
              "      <th>residual sugar</th>\n",
              "      <th>chlorides</th>\n",
              "      <th>free sulfur dioxide</th>\n",
              "      <th>total sulfur dioxide</th>\n",
              "      <th>density</th>\n",
              "      <th>pH</th>\n",
              "      <th>sulphates</th>\n",
              "      <th>alcohol</th>\n",
              "      <th>quality</th>\n",
              "    </tr>\n",
              "  </thead>\n",
              "  <tbody>\n",
              "    <tr>\n",
              "      <th>0</th>\n",
              "      <td>7.4</td>\n",
              "      <td>0.70</td>\n",
              "      <td>0.00</td>\n",
              "      <td>1.9</td>\n",
              "      <td>0.076</td>\n",
              "      <td>11.0</td>\n",
              "      <td>34.0</td>\n",
              "      <td>0.9978</td>\n",
              "      <td>3.51</td>\n",
              "      <td>0.56</td>\n",
              "      <td>9.4</td>\n",
              "      <td>5</td>\n",
              "    </tr>\n",
              "    <tr>\n",
              "      <th>1</th>\n",
              "      <td>7.8</td>\n",
              "      <td>0.88</td>\n",
              "      <td>0.00</td>\n",
              "      <td>2.6</td>\n",
              "      <td>0.098</td>\n",
              "      <td>25.0</td>\n",
              "      <td>67.0</td>\n",
              "      <td>0.9968</td>\n",
              "      <td>3.20</td>\n",
              "      <td>0.68</td>\n",
              "      <td>9.8</td>\n",
              "      <td>5</td>\n",
              "    </tr>\n",
              "    <tr>\n",
              "      <th>2</th>\n",
              "      <td>7.8</td>\n",
              "      <td>0.76</td>\n",
              "      <td>0.04</td>\n",
              "      <td>2.3</td>\n",
              "      <td>0.092</td>\n",
              "      <td>15.0</td>\n",
              "      <td>54.0</td>\n",
              "      <td>0.9970</td>\n",
              "      <td>3.26</td>\n",
              "      <td>0.65</td>\n",
              "      <td>9.8</td>\n",
              "      <td>5</td>\n",
              "    </tr>\n",
              "    <tr>\n",
              "      <th>3</th>\n",
              "      <td>11.2</td>\n",
              "      <td>0.28</td>\n",
              "      <td>0.56</td>\n",
              "      <td>1.9</td>\n",
              "      <td>0.075</td>\n",
              "      <td>17.0</td>\n",
              "      <td>60.0</td>\n",
              "      <td>0.9980</td>\n",
              "      <td>3.16</td>\n",
              "      <td>0.58</td>\n",
              "      <td>9.8</td>\n",
              "      <td>6</td>\n",
              "    </tr>\n",
              "    <tr>\n",
              "      <th>4</th>\n",
              "      <td>7.4</td>\n",
              "      <td>0.70</td>\n",
              "      <td>0.00</td>\n",
              "      <td>1.9</td>\n",
              "      <td>0.076</td>\n",
              "      <td>11.0</td>\n",
              "      <td>34.0</td>\n",
              "      <td>0.9978</td>\n",
              "      <td>3.51</td>\n",
              "      <td>0.56</td>\n",
              "      <td>9.4</td>\n",
              "      <td>5</td>\n",
              "    </tr>\n",
              "  </tbody>\n",
              "</table>\n",
              "</div>\n",
              "      <button class=\"colab-df-convert\" onclick=\"convertToInteractive('df-1592a360-3e9d-455e-bc7a-54e384d76e10')\"\n",
              "              title=\"Convert this dataframe to an interactive table.\"\n",
              "              style=\"display:none;\">\n",
              "        \n",
              "  <svg xmlns=\"http://www.w3.org/2000/svg\" height=\"24px\"viewBox=\"0 0 24 24\"\n",
              "       width=\"24px\">\n",
              "    <path d=\"M0 0h24v24H0V0z\" fill=\"none\"/>\n",
              "    <path d=\"M18.56 5.44l.94 2.06.94-2.06 2.06-.94-2.06-.94-.94-2.06-.94 2.06-2.06.94zm-11 1L8.5 8.5l.94-2.06 2.06-.94-2.06-.94L8.5 2.5l-.94 2.06-2.06.94zm10 10l.94 2.06.94-2.06 2.06-.94-2.06-.94-.94-2.06-.94 2.06-2.06.94z\"/><path d=\"M17.41 7.96l-1.37-1.37c-.4-.4-.92-.59-1.43-.59-.52 0-1.04.2-1.43.59L10.3 9.45l-7.72 7.72c-.78.78-.78 2.05 0 2.83L4 21.41c.39.39.9.59 1.41.59.51 0 1.02-.2 1.41-.59l7.78-7.78 2.81-2.81c.8-.78.8-2.07 0-2.86zM5.41 20L4 18.59l7.72-7.72 1.47 1.35L5.41 20z\"/>\n",
              "  </svg>\n",
              "      </button>\n",
              "      \n",
              "  <style>\n",
              "    .colab-df-container {\n",
              "      display:flex;\n",
              "      flex-wrap:wrap;\n",
              "      gap: 12px;\n",
              "    }\n",
              "\n",
              "    .colab-df-convert {\n",
              "      background-color: #E8F0FE;\n",
              "      border: none;\n",
              "      border-radius: 50%;\n",
              "      cursor: pointer;\n",
              "      display: none;\n",
              "      fill: #1967D2;\n",
              "      height: 32px;\n",
              "      padding: 0 0 0 0;\n",
              "      width: 32px;\n",
              "    }\n",
              "\n",
              "    .colab-df-convert:hover {\n",
              "      background-color: #E2EBFA;\n",
              "      box-shadow: 0px 1px 2px rgba(60, 64, 67, 0.3), 0px 1px 3px 1px rgba(60, 64, 67, 0.15);\n",
              "      fill: #174EA6;\n",
              "    }\n",
              "\n",
              "    [theme=dark] .colab-df-convert {\n",
              "      background-color: #3B4455;\n",
              "      fill: #D2E3FC;\n",
              "    }\n",
              "\n",
              "    [theme=dark] .colab-df-convert:hover {\n",
              "      background-color: #434B5C;\n",
              "      box-shadow: 0px 1px 3px 1px rgba(0, 0, 0, 0.15);\n",
              "      filter: drop-shadow(0px 1px 2px rgba(0, 0, 0, 0.3));\n",
              "      fill: #FFFFFF;\n",
              "    }\n",
              "  </style>\n",
              "\n",
              "      <script>\n",
              "        const buttonEl =\n",
              "          document.querySelector('#df-1592a360-3e9d-455e-bc7a-54e384d76e10 button.colab-df-convert');\n",
              "        buttonEl.style.display =\n",
              "          google.colab.kernel.accessAllowed ? 'block' : 'none';\n",
              "\n",
              "        async function convertToInteractive(key) {\n",
              "          const element = document.querySelector('#df-1592a360-3e9d-455e-bc7a-54e384d76e10');\n",
              "          const dataTable =\n",
              "            await google.colab.kernel.invokeFunction('convertToInteractive',\n",
              "                                                     [key], {});\n",
              "          if (!dataTable) return;\n",
              "\n",
              "          const docLinkHtml = 'Like what you see? Visit the ' +\n",
              "            '<a target=\"_blank\" href=https://colab.research.google.com/notebooks/data_table.ipynb>data table notebook</a>'\n",
              "            + ' to learn more about interactive tables.';\n",
              "          element.innerHTML = '';\n",
              "          dataTable['output_type'] = 'display_data';\n",
              "          await google.colab.output.renderOutput(dataTable, element);\n",
              "          const docLink = document.createElement('div');\n",
              "          docLink.innerHTML = docLinkHtml;\n",
              "          element.appendChild(docLink);\n",
              "        }\n",
              "      </script>\n",
              "    </div>\n",
              "  </div>\n",
              "  "
            ]
          },
          "metadata": {},
          "execution_count": 67
        }
      ]
    },
    {
      "cell_type": "code",
      "source": [
        "# creating a function which will give us features from the dataset\n",
        "def data_feature(dataset):\n",
        "    print(\"SHAPE OF THE DATA: \")\n",
        "    print(dataset.shape)\n",
        "    print(\"-\"*90)\n",
        "    print(\"INFORMATION OF THE DATA: \")\n",
        "    print(dataset.info())\n",
        "    print(\"-\"*90)\n",
        "    print(\"NUMBER OF NULL VALUES PRESENT IN THE DATA: \")\n",
        "    print(dataset.isnull().sum())\n",
        "    print(\"-\"*90)\n",
        "    print(\"COLUMN NAMES OF THE DATA: \")\n",
        "    print(dataset.columns)\n",
        "    print(\"-\"*90)\n",
        "    print(\"DATA TYPES OF THE DATA: \")\n",
        "    print(dataset.dtypes)\n",
        "    print(\"-\"*90)\n",
        "    \n",
        "data_feature(df)\n"
      ],
      "metadata": {
        "colab": {
          "base_uri": "https://localhost:8080/"
        },
        "id": "T5rTQn9ruirY",
        "outputId": "ec0b03e4-060a-4d72-da79-fe4905e8410d"
      },
      "execution_count": 68,
      "outputs": [
        {
          "output_type": "stream",
          "name": "stdout",
          "text": [
            "SHAPE OF THE DATA: \n",
            "(1599, 12)\n",
            "------------------------------------------------------------------------------------------\n",
            "INFORMATION OF THE DATA: \n",
            "<class 'pandas.core.frame.DataFrame'>\n",
            "RangeIndex: 1599 entries, 0 to 1598\n",
            "Data columns (total 12 columns):\n",
            " #   Column                Non-Null Count  Dtype  \n",
            "---  ------                --------------  -----  \n",
            " 0   fixed acidity         1599 non-null   float64\n",
            " 1   volatile acidity      1599 non-null   float64\n",
            " 2   citric acid           1599 non-null   float64\n",
            " 3   residual sugar        1599 non-null   float64\n",
            " 4   chlorides             1599 non-null   float64\n",
            " 5   free sulfur dioxide   1599 non-null   float64\n",
            " 6   total sulfur dioxide  1599 non-null   float64\n",
            " 7   density               1599 non-null   float64\n",
            " 8   pH                    1599 non-null   float64\n",
            " 9   sulphates             1599 non-null   float64\n",
            " 10  alcohol               1599 non-null   float64\n",
            " 11  quality               1599 non-null   int64  \n",
            "dtypes: float64(11), int64(1)\n",
            "memory usage: 150.0 KB\n",
            "None\n",
            "------------------------------------------------------------------------------------------\n",
            "NUMBER OF NULL VALUES PRESENT IN THE DATA: \n",
            "fixed acidity           0\n",
            "volatile acidity        0\n",
            "citric acid             0\n",
            "residual sugar          0\n",
            "chlorides               0\n",
            "free sulfur dioxide     0\n",
            "total sulfur dioxide    0\n",
            "density                 0\n",
            "pH                      0\n",
            "sulphates               0\n",
            "alcohol                 0\n",
            "quality                 0\n",
            "dtype: int64\n",
            "------------------------------------------------------------------------------------------\n",
            "COLUMN NAMES OF THE DATA: \n",
            "Index(['fixed acidity', 'volatile acidity', 'citric acid', 'residual sugar',\n",
            "       'chlorides', 'free sulfur dioxide', 'total sulfur dioxide', 'density',\n",
            "       'pH', 'sulphates', 'alcohol', 'quality'],\n",
            "      dtype='object')\n",
            "------------------------------------------------------------------------------------------\n",
            "DATA TYPES OF THE DATA: \n",
            "fixed acidity           float64\n",
            "volatile acidity        float64\n",
            "citric acid             float64\n",
            "residual sugar          float64\n",
            "chlorides               float64\n",
            "free sulfur dioxide     float64\n",
            "total sulfur dioxide    float64\n",
            "density                 float64\n",
            "pH                      float64\n",
            "sulphates               float64\n",
            "alcohol                 float64\n",
            "quality                   int64\n",
            "dtype: object\n",
            "------------------------------------------------------------------------------------------\n"
          ]
        }
      ]
    },
    {
      "cell_type": "code",
      "source": [
        "corr_data = df.corr()\n",
        "sns.heatmap(df.corr(), annot=True, cmap='inferno');"
      ],
      "metadata": {
        "colab": {
          "base_uri": "https://localhost:8080/",
          "height": 408
        },
        "id": "vVZ5AxEFvLqH",
        "outputId": "f778e006-5e05-425f-aed9-95850ebcf7a0"
      },
      "execution_count": 69,
      "outputs": [
        {
          "output_type": "display_data",
          "data": {
            "text/plain": [
              "<Figure size 864x360 with 2 Axes>"
            ],
            "image/png": "[encoded data removed]"
          },
          "metadata": {
            "needs_background": "light"
          }
        }
      ]
    },
    {
      "cell_type": "code",
      "source": [
        "df.describe().T"
      ],
      "metadata": {
        "colab": {
          "base_uri": "https://localhost:8080/",
          "height": 426
        },
        "id": "wDBUYFp-wPcd",
        "outputId": "8d5ba727-5740-496a-a9d3-6ecdca489e87"
      },
      "execution_count": 70,
      "outputs": [
        {
          "output_type": "execute_result",
          "data": {
            "text/plain": [
              "                       count       mean        std      min      25%  \\\n",
              "fixed acidity         1599.0   8.319637   1.741096  4.60000   7.1000   \n",
              "volatile acidity      1599.0   0.527821   0.179060  0.12000   0.3900   \n",
              "citric acid           1599.0   0.270976   0.194801  0.00000   0.0900   \n",
              "residual sugar        1599.0   2.538806   1.409928  0.90000   1.9000   \n",
              "chlorides             1599.0   0.087467   0.047065  0.01200   0.0700   \n",
              "free sulfur dioxide   1599.0  15.874922  10.460157  1.00000   7.0000   \n",
              "total sulfur dioxide  1599.0  46.467792  32.895324  6.00000  22.0000   \n",
              "density               1599.0   0.996747   0.001887  0.99007   0.9956   \n",
              "pH                    1599.0   3.311113   0.154386  2.74000   3.2100   \n",
              "sulphates             1599.0   0.658149   0.169507  0.33000   0.5500   \n",
              "alcohol               1599.0  10.422983   1.065668  8.40000   9.5000   \n",
              "quality               1599.0   5.636023   0.807569  3.00000   5.0000   \n",
              "\n",
              "                           50%        75%        max  \n",
              "fixed acidity          7.90000   9.200000   15.90000  \n",
              "volatile acidity       0.52000   0.640000    1.58000  \n",
              "citric acid            0.26000   0.420000    1.00000  \n",
              "residual sugar         2.20000   2.600000   15.50000  \n",
              "chlorides              0.07900   0.090000    0.61100  \n",
              "free sulfur dioxide   14.00000  21.000000   72.00000  \n",
              "total sulfur dioxide  38.00000  62.000000  289.00000  \n",
              "density                0.99675   0.997835    1.00369  \n",
              "pH                     3.31000   3.400000    4.01000  \n",
              "sulphates              0.62000   0.730000    2.00000  \n",
              "alcohol               10.20000  11.100000   14.90000  \n",
              "quality                6.00000   6.000000    8.00000  "
            ],
            "text/html": [
              "\n",
              "  <div id=\"df-fd97455c-65f2-4164-b8a0-94faded4b466\">\n",
              "    <div class=\"colab-df-container\">\n",
              "      <div>\n",
              "<style scoped>\n",
              "    .dataframe tbody tr th:only-of-type {\n",
              "        vertical-align: middle;\n",
              "    }\n",
              "\n",
              "    .dataframe tbody tr th {\n",
              "        vertical-align: top;\n",
              "    }\n",
              "\n",
              "    .dataframe thead th {\n",
              "        text-align: right;\n",
              "    }\n",
              "</style>\n",
              "<table border=\"1\" class=\"dataframe\">\n",
              "  <thead>\n",
              "    <tr style=\"text-align: right;\">\n",
              "      <th></th>\n",
              "      <th>count</th>\n",
              "      <th>mean</th>\n",
              "      <th>std</th>\n",
              "      <th>min</th>\n",
              "      <th>25%</th>\n",
              "      <th>50%</th>\n",
              "      <th>75%</th>\n",
              "      <th>max</th>\n",
              "    </tr>\n",
              "  </thead>\n",
              "  <tbody>\n",
              "    <tr>\n",
              "      <th>fixed acidity</th>\n",
              "      <td>1599.0</td>\n",
              "      <td>8.319637</td>\n",
              "      <td>1.741096</td>\n",
              "      <td>4.60000</td>\n",
              "      <td>7.1000</td>\n",
              "      <td>7.90000</td>\n",
              "      <td>9.200000</td>\n",
              "      <td>15.90000</td>\n",
              "    </tr>\n",
              "    <tr>\n",
              "      <th>volatile acidity</th>\n",
              "      <td>1599.0</td>\n",
              "      <td>0.527821</td>\n",
              "      <td>0.179060</td>\n",
              "      <td>0.12000</td>\n",
              "      <td>0.3900</td>\n",
              "      <td>0.52000</td>\n",
              "      <td>0.640000</td>\n",
              "      <td>1.58000</td>\n",
              "    </tr>\n",
              "    <tr>\n",
              "      <th>citric acid</th>\n",
              "      <td>1599.0</td>\n",
              "      <td>0.270976</td>\n",
              "      <td>0.194801</td>\n",
              "      <td>0.00000</td>\n",
              "      <td>0.0900</td>\n",
              "      <td>0.26000</td>\n",
              "      <td>0.420000</td>\n",
              "      <td>1.00000</td>\n",
              "    </tr>\n",
              "    <tr>\n",
              "      <th>residual sugar</th>\n",
              "      <td>1599.0</td>\n",
              "      <td>2.538806</td>\n",
              "      <td>1.409928</td>\n",
              "      <td>0.90000</td>\n",
              "      <td>1.9000</td>\n",
              "      <td>2.20000</td>\n",
              "      <td>2.600000</td>\n",
              "      <td>15.50000</td>\n",
              "    </tr>\n",
              "    <tr>\n",
              "      <th>chlorides</th>\n",
              "      <td>1599.0</td>\n",
              "      <td>0.087467</td>\n",
              "      <td>0.047065</td>\n",
              "      <td>0.01200</td>\n",
              "      <td>0.0700</td>\n",
              "      <td>0.07900</td>\n",
              "      <td>0.090000</td>\n",
              "      <td>0.61100</td>\n",
              "    </tr>\n",
              "    <tr>\n",
              "      <th>free sulfur dioxide</th>\n",
              "      <td>1599.0</td>\n",
              "      <td>15.874922</td>\n",
              "      <td>10.460157</td>\n",
              "      <td>1.00000</td>\n",
              "      <td>7.0000</td>\n",
              "      <td>14.00000</td>\n",
              "      <td>21.000000</td>\n",
              "      <td>72.00000</td>\n",
              "    </tr>\n",
              "    <tr>\n",
              "      <th>total sulfur dioxide</th>\n",
              "      <td>1599.0</td>\n",
              "      <td>46.467792</td>\n",
              "      <td>32.895324</td>\n",
              "      <td>6.00000</td>\n",
              "      <td>22.0000</td>\n",
              "      <td>38.00000</td>\n",
              "      <td>62.000000</td>\n",
              "      <td>289.00000</td>\n",
              "    </tr>\n",
              "    <tr>\n",
              "      <th>density</th>\n",
              "      <td>1599.0</td>\n",
              "      <td>0.996747</td>\n",
              "      <td>0.001887</td>\n",
              "      <td>0.99007</td>\n",
              "      <td>0.9956</td>\n",
              "      <td>0.99675</td>\n",
              "      <td>0.997835</td>\n",
              "      <td>1.00369</td>\n",
              "    </tr>\n",
              "    <tr>\n",
              "      <th>pH</th>\n",
              "      <td>1599.0</td>\n",
              "      <td>3.311113</td>\n",
              "      <td>0.154386</td>\n",
              "      <td>2.74000</td>\n",
              "      <td>3.2100</td>\n",
              "      <td>3.31000</td>\n",
              "      <td>3.400000</td>\n",
              "      <td>4.01000</td>\n",
              "    </tr>\n",
              "    <tr>\n",
              "      <th>sulphates</th>\n",
              "      <td>1599.0</td>\n",
              "      <td>0.658149</td>\n",
              "      <td>0.169507</td>\n",
              "      <td>0.33000</td>\n",
              "      <td>0.5500</td>\n",
              "      <td>0.62000</td>\n",
              "      <td>0.730000</td>\n",
              "      <td>2.00000</td>\n",
              "    </tr>\n",
              "    <tr>\n",
              "      <th>alcohol</th>\n",
              "      <td>1599.0</td>\n",
              "      <td>10.422983</td>\n",
              "      <td>1.065668</td>\n",
              "      <td>8.40000</td>\n",
              "      <td>9.5000</td>\n",
              "      <td>10.20000</td>\n",
              "      <td>11.100000</td>\n",
              "      <td>14.90000</td>\n",
              "    </tr>\n",
              "    <tr>\n",
              "      <th>quality</th>\n",
              "      <td>1599.0</td>\n",
              "      <td>5.636023</td>\n",
              "      <td>0.807569</td>\n",
              "      <td>3.00000</td>\n",
              "      <td>5.0000</td>\n",
              "      <td>6.00000</td>\n",
              "      <td>6.000000</td>\n",
              "      <td>8.00000</td>\n",
              "    </tr>\n",
              "  </tbody>\n",
              "</table>\n",
              "</div>\n",
              "      <button class=\"colab-df-convert\" onclick=\"convertToInteractive('df-fd97455c-65f2-4164-b8a0-94faded4b466')\"\n",
              "              title=\"Convert this dataframe to an interactive table.\"\n",
              "              style=\"display:none;\">\n",
              "        \n",
              "  <svg xmlns=\"http://www.w3.org/2000/svg\" height=\"24px\"viewBox=\"0 0 24 24\"\n",
              "       width=\"24px\">\n",
              "    <path d=\"M0 0h24v24H0V0z\" fill=\"none\"/>\n",
              "    <path d=\"M18.56 5.44l.94 2.06.94-2.06 2.06-.94-2.06-.94-.94-2.06-.94 2.06-2.06.94zm-11 1L8.5 8.5l.94-2.06 2.06-.94-2.06-.94L8.5 2.5l-.94 2.06-2.06.94zm10 10l.94 2.06.94-2.06 2.06-.94-2.06-.94-.94-2.06-.94 2.06-2.06.94z\"/><path d=\"M17.41 7.96l-1.37-1.37c-.4-.4-.92-.59-1.43-.59-.52 0-1.04.2-1.43.59L10.3 9.45l-7.72 7.72c-.78.78-.78 2.05 0 2.83L4 21.41c.39.39.9.59 1.41.59.51 0 1.02-.2 1.41-.59l7.78-7.78 2.81-2.81c.8-.78.8-2.07 0-2.86zM5.41 20L4 18.59l7.72-7.72 1.47 1.35L5.41 20z\"/>\n",
              "  </svg>\n",
              "      </button>\n",
              "      \n",
              "  <style>\n",
              "    .colab-df-container {\n",
              "      display:flex;\n",
              "      flex-wrap:wrap;\n",
              "      gap: 12px;\n",
              "    }\n",
              "\n",
              "    .colab-df-convert {\n",
              "      background-color: #E8F0FE;\n",
              "      border: none;\n",
              "      border-radius: 50%;\n",
              "      cursor: pointer;\n",
              "      display: none;\n",
              "      fill: #1967D2;\n",
              "      height: 32px;\n",
              "      padding: 0 0 0 0;\n",
              "      width: 32px;\n",
              "    }\n",
              "\n",
              "    .colab-df-convert:hover {\n",
              "      background-color: #E2EBFA;\n",
              "      box-shadow: 0px 1px 2px rgba(60, 64, 67, 0.3), 0px 1px 3px 1px rgba(60, 64, 67, 0.15);\n",
              "      fill: #174EA6;\n",
              "    }\n",
              "\n",
              "    [theme=dark] .colab-df-convert {\n",
              "      background-color: #3B4455;\n",
              "      fill: #D2E3FC;\n",
              "    }\n",
              "\n",
              "    [theme=dark] .colab-df-convert:hover {\n",
              "      background-color: #434B5C;\n",
              "      box-shadow: 0px 1px 3px 1px rgba(0, 0, 0, 0.15);\n",
              "      filter: drop-shadow(0px 1px 2px rgba(0, 0, 0, 0.3));\n",
              "      fill: #FFFFFF;\n",
              "    }\n",
              "  </style>\n",
              "\n",
              "      <script>\n",
              "        const buttonEl =\n",
              "          document.querySelector('#df-fd97455c-65f2-4164-b8a0-94faded4b466 button.colab-df-convert');\n",
              "        buttonEl.style.display =\n",
              "          google.colab.kernel.accessAllowed ? 'block' : 'none';\n",
              "\n",
              "        async function convertToInteractive(key) {\n",
              "          const element = document.querySelector('#df-fd97455c-65f2-4164-b8a0-94faded4b466');\n",
              "          const dataTable =\n",
              "            await google.colab.kernel.invokeFunction('convertToInteractive',\n",
              "                                                     [key], {});\n",
              "          if (!dataTable) return;\n",
              "\n",
              "          const docLinkHtml = 'Like what you see? Visit the ' +\n",
              "            '<a target=\"_blank\" href=https://colab.research.google.com/notebooks/data_table.ipynb>data table notebook</a>'\n",
              "            + ' to learn more about interactive tables.';\n",
              "          element.innerHTML = '';\n",
              "          dataTable['output_type'] = 'display_data';\n",
              "          await google.colab.output.renderOutput(dataTable, element);\n",
              "          const docLink = document.createElement('div');\n",
              "          docLink.innerHTML = docLinkHtml;\n",
              "          element.appendChild(docLink);\n",
              "        }\n",
              "      </script>\n",
              "    </div>\n",
              "  </div>\n",
              "  "
            ]
          },
          "metadata": {},
          "execution_count": 70
        }
      ]
    },
    {
      "cell_type": "code",
      "source": [
        "print(df['fixed acidity'].value_counts(dropna=False))\n",
        "print(\"-\"*90)\n",
        "print(df['fixed acidity'].value_counts().nlargest(8))"
      ],
      "metadata": {
        "colab": {
          "base_uri": "https://localhost:8080/"
        },
        "id": "XNFQ9Vqgw6qW",
        "outputId": "275ecf02-5c48-4c32-b2d4-53b5c1db91bf"
      },
      "execution_count": 71,
      "outputs": [
        {
          "output_type": "stream",
          "name": "stdout",
          "text": [
            "7.2     67\n",
            "7.1     57\n",
            "7.8     53\n",
            "7.5     52\n",
            "7.0     50\n",
            "        ..\n",
            "13.5     1\n",
            "13.8     1\n",
            "13.4     1\n",
            "4.7      1\n",
            "5.5      1\n",
            "Name: fixed acidity, Length: 96, dtype: int64\n",
            "------------------------------------------------------------------------------------------\n",
            "7.2    67\n",
            "7.1    57\n",
            "7.8    53\n",
            "7.5    52\n",
            "7.0    50\n",
            "7.7    49\n",
            "6.8    46\n",
            "7.6    46\n",
            "Name: fixed acidity, dtype: int64\n"
          ]
        }
      ]
    },
    {
      "cell_type": "code",
      "source": [
        "df['quality'].value_counts()"
      ],
      "metadata": {
        "colab": {
          "base_uri": "https://localhost:8080/"
        },
        "id": "zg2jdqMLxq5j",
        "outputId": "85a4bbb8-db85-4670-b26a-8dbe98b25bc6"
      },
      "execution_count": 72,
      "outputs": [
        {
          "output_type": "execute_result",
          "data": {
            "text/plain": [
              "5    681\n",
              "6    638\n",
              "7    199\n",
              "4     53\n",
              "8     18\n",
              "3     10\n",
              "Name: quality, dtype: int64"
            ]
          },
          "metadata": {},
          "execution_count": 72
        }
      ]
    },
    {
      "cell_type": "code",
      "source": [
        "label  = ['quality_5','quality_6','quality_7','quality_4','quality_8','quality_3']\n",
        "data = df['quality'].value_counts()\n",
        "colors = sns.color_palette('pastel')[0:5]\n",
        "\n",
        "plt.pie(data,labels=label,colors=colors,autopct='%.0f%%')\n",
        "plt.show()"
      ],
      "metadata": {
        "colab": {
          "base_uri": "https://localhost:8080/",
          "height": 303
        },
        "id": "vgsywcEIxq8R",
        "outputId": "94ef0b13-276d-49a1-a2cf-945092a2ae67"
      },
      "execution_count": 73,
      "outputs": [
        {
          "output_type": "display_data",
          "data": {
            "text/plain": [
              "<Figure size 864x360 with 1 Axes>"
            ],
            "image/png": "[encoded data removed]"
          },
          "metadata": {}
        }
      ]
    },
    {
      "cell_type": "code",
      "source": [
        "# countplot\n",
        "sns.countplot(y=df['quality'])"
      ],
      "metadata": {
        "colab": {
          "base_uri": "https://localhost:8080/",
          "height": 351
        },
        "id": "8p3RSE-dxq_J",
        "outputId": "7f8b44ac-9198-47ef-ea99-ef6d9ca98af9"
      },
      "execution_count": 74,
      "outputs": [
        {
          "output_type": "execute_result",
          "data": {
            "text/plain": [
              "<matplotlib.axes._subplots.AxesSubplot at 0x7f232328b4d0>"
            ]
          },
          "metadata": {},
          "execution_count": 74
        },
        {
          "output_type": "display_data",
          "data": {
            "text/plain": [
              "<Figure size 864x360 with 1 Axes>"
            ],
            "image/png": "[encoded data removed]"
          },
          "metadata": {
            "needs_background": "light"
          }
        }
      ]
    },
    {
      "cell_type": "code",
      "source": [
        "sns.relplot(x=\"density\", y='fixed acidity', hue=\"quality\" ,data=df,palette=\"inferno\");"
      ],
      "metadata": {
        "colab": {
          "base_uri": "https://localhost:8080/",
          "height": 369
        },
        "id": "8WmPVo6jxrCA",
        "outputId": "9c9b15a6-b549-4421-d48f-a4cff5ea193c"
      },
      "execution_count": 75,
      "outputs": [
        {
          "output_type": "display_data",
          "data": {
            "text/plain": [
              "<Figure size 402.375x360 with 1 Axes>"
            ],
            "image/png": "[encoded data removed]"
          },
          "metadata": {
            "needs_background": "light"
          }
        }
      ]
    },
    {
      "cell_type": "code",
      "source": [
        "sns.relplot(x=\"density\", y='fixed acidity', hue=\"citric acid\" ,data=df ,palette=\"inferno\");"
      ],
      "metadata": {
        "colab": {
          "base_uri": "https://localhost:8080/",
          "height": 369
        },
        "id": "Jn8fkKoPxrFH",
        "outputId": "514d5f9d-393b-4332-d108-98ffe79addb2"
      },
      "execution_count": 76,
      "outputs": [
        {
          "output_type": "display_data",
          "data": {
            "text/plain": [
              "<Figure size 416.75x360 with 1 Axes>"
            ],
            "image/png": "[encoded data removed]"
          },
          "metadata": {
            "needs_background": "light"
          }
        }
      ]
    },
    {
      "cell_type": "code",
      "source": [
        "sns.barplot(data=df, x='quality', y=\"alcohol\");"
      ],
      "metadata": {
        "colab": {
          "base_uri": "https://localhost:8080/",
          "height": 334
        },
        "id": "Cz4azDBqxrIg",
        "outputId": "7e14244c-7073-4d47-dbdf-96a2912834fe"
      },
      "execution_count": 83,
      "outputs": [
        {
          "output_type": "display_data",
          "data": {
            "text/plain": [
              "<Figure size 864x360 with 1 Axes>"
            ],
            "image/png": "[encoded data removed]"
          },
          "metadata": {
            "needs_background": "light"
          }
        }
      ]
    },
    {
      "cell_type": "code",
      "source": [
        "# Numerical variables :\n",
        "num_cols = [c for c in df.columns if df[c].dtypes!='O']\n",
        "print(num_cols)\n"
      ],
      "metadata": {
        "colab": {
          "base_uri": "https://localhost:8080/"
        },
        "id": "cauAkMs98Py7",
        "outputId": "d0bc178f-ed9f-46ae-e6d2-68a302f8ab41"
      },
      "execution_count": 95,
      "outputs": [
        {
          "output_type": "stream",
          "name": "stdout",
          "text": [
            "['fixed acidity', 'volatile acidity', 'citric acid', 'residual sugar', 'chlorides', 'free sulfur dioxide', 'total sulfur dioxide', 'density', 'pH', 'sulphates', 'alcohol', 'quality']\n"
          ]
        }
      ]
    },
    {
      "cell_type": "code",
      "source": [
        "# Data Splitting :\n",
        "X = df.drop('quality',axis=1)\n",
        "y = df['quality']\n",
        "\n",
        "print(f' X_shape: {X.shape} \\n y_shape: {y.shape}')"
      ],
      "metadata": {
        "colab": {
          "base_uri": "https://localhost:8080/"
        },
        "id": "sEBMjrGW9ePt",
        "outputId": "2bc1be5d-de76-4578-eddf-01c78205b605"
      },
      "execution_count": 96,
      "outputs": [
        {
          "output_type": "stream",
          "name": "stdout",
          "text": [
            " X_shape: (1599, 11) \n",
            " y_shape: (1599,)\n"
          ]
        }
      ]
    },
    {
      "cell_type": "code",
      "source": [
        "# Feature Selection using Random Forest Importance :\n",
        "\n",
        "rf_clf = RandomForestClassifier(criterion='entropy',n_estimators=20)\n",
        "rfe_selector = RFE(estimator=rf_clf, n_features_to_select=6, step=10, verbose=5)\n",
        "rfe_selector.fit(X, y)"
      ],
      "metadata": {
        "colab": {
          "base_uri": "https://localhost:8080/"
        },
        "id": "EUR-LvkX9rIw",
        "outputId": "02e11469-eafa-4612-e0ce-921534e461b7"
      },
      "execution_count": 97,
      "outputs": [
        {
          "output_type": "stream",
          "name": "stdout",
          "text": [
            "Fitting estimator with 11 features.\n"
          ]
        },
        {
          "output_type": "execute_result",
          "data": {
            "text/plain": [
              "RFE(estimator=RandomForestClassifier(criterion='entropy', n_estimators=20),\n",
              "    n_features_to_select=6, step=10, verbose=5)"
            ]
          },
          "metadata": {},
          "execution_count": 97
        }
      ]
    },
    {
      "cell_type": "code",
      "source": [
        "rfe_support = rfe_selector.get_support()\n",
        "\n",
        "rfe_feature = X.loc[:,rfe_support].columns.tolist()\n",
        "print(rfe_feature)\n",
        "print('*******************************************************************************************')\n",
        "print(str(len(rfe_feature)), 'selected features')"
      ],
      "metadata": {
        "colab": {
          "base_uri": "https://localhost:8080/"
        },
        "id": "csZKh4NL95-T",
        "outputId": "0a605d41-ae8c-440c-d75e-6ef9b3748c0f"
      },
      "execution_count": 98,
      "outputs": [
        {
          "output_type": "stream",
          "name": "stdout",
          "text": [
            "['volatile acidity', 'citric acid', 'total sulfur dioxide', 'density', 'sulphates', 'alcohol']\n",
            "*******************************************************************************************\n",
            "6 selected features\n"
          ]
        }
      ]
    },
    {
      "cell_type": "code",
      "source": [
        "X  = df[rfe_feature]\n",
        "y = df['quality']\n",
        "\n",
        "print(f' X_shape: {X.shape} \\n y_shape: {y.shape}')"
      ],
      "metadata": {
        "colab": {
          "base_uri": "https://localhost:8080/"
        },
        "id": "yoz1Ppz4CIOL",
        "outputId": "f182813e-1ddc-421c-e599-02127b7e715f"
      },
      "execution_count": 103,
      "outputs": [
        {
          "output_type": "stream",
          "name": "stdout",
          "text": [
            " X_shape: (1599, 6) \n",
            " y_shape: (1599,)\n"
          ]
        }
      ]
    },
    {
      "cell_type": "code",
      "source": [
        "y.value_counts()"
      ],
      "metadata": {
        "colab": {
          "base_uri": "https://localhost:8080/"
        },
        "id": "ckd3VTkKC473",
        "outputId": "39f2f4a2-26e5-495f-c7fc-23f1e438f76a"
      },
      "execution_count": 104,
      "outputs": [
        {
          "output_type": "execute_result",
          "data": {
            "text/plain": [
              "5    681\n",
              "6    638\n",
              "7    199\n",
              "4     53\n",
              "8     18\n",
              "3     10\n",
              "Name: quality, dtype: int64"
            ]
          },
          "metadata": {},
          "execution_count": 104
        }
      ]
    },
    {
      "cell_type": "code",
      "source": [
        "rs = RandomOverSampler()\n",
        "X_resample, y_resample = rs.fit_resample(X,y)\n",
        "\n",
        "print(f' Shape of X after Oversampling: {X_resample.shape} \\n Shape of y after Oversampling: {y_resample.shape}')"
      ],
      "metadata": {
        "colab": {
          "base_uri": "https://localhost:8080/"
        },
        "id": "p0t3z53tC7cr",
        "outputId": "90c4ac56-fa55-4638-b6ab-400b32a1c294"
      },
      "execution_count": 105,
      "outputs": [
        {
          "output_type": "stream",
          "name": "stdout",
          "text": [
            " Shape of X after Oversampling: (4086, 6) \n",
            " Shape of y after Oversampling: (4086,)\n"
          ]
        }
      ]
    },
    {
      "cell_type": "code",
      "source": [
        "y_resample.value_counts()"
      ],
      "metadata": {
        "colab": {
          "base_uri": "https://localhost:8080/"
        },
        "id": "fTBn75zXC_oC",
        "outputId": "dc1e654e-16fa-40a5-ac15-2b626ca3fc0c"
      },
      "execution_count": 106,
      "outputs": [
        {
          "output_type": "execute_result",
          "data": {
            "text/plain": [
              "5    681\n",
              "6    681\n",
              "7    681\n",
              "4    681\n",
              "8    681\n",
              "3    681\n",
              "Name: quality, dtype: int64"
            ]
          },
          "metadata": {},
          "execution_count": 106
        }
      ]
    },
    {
      "cell_type": "code",
      "source": [
        "# Data Standardization :\n",
        "\n",
        "from sklearn.preprocessing import StandardScaler\n",
        "scl = StandardScaler()\n",
        "X_rescale = scl.fit_transform(X_resample)"
      ],
      "metadata": {
        "id": "JO_6isdfDCkk"
      },
      "execution_count": 107,
      "outputs": []
    },
    {
      "cell_type": "code",
      "source": [
        "# Data Splitting into train and test :\n",
        "\n",
        "from sklearn.model_selection import train_test_split\n",
        "X_train_res, X_test_res, y_train_res, y_test_res = train_test_split(X_rescale,y_resample,test_size=0.20,shuffle=True,random_state=0)\n",
        "print(f' Shape of X_train: {X_train_res.shape} & Shape of X_test: {X_test_res.shape}')\n",
        "print(f' Shape of y_train: {y_train_res.shape} & Shape of y_test: {y_test_res.shape}')"
      ],
      "metadata": {
        "colab": {
          "base_uri": "https://localhost:8080/"
        },
        "id": "ZdSHLDZ2DTOU",
        "outputId": "acd0600e-3d8b-402b-960b-cda9b608b5ae"
      },
      "execution_count": 108,
      "outputs": [
        {
          "output_type": "stream",
          "name": "stdout",
          "text": [
            " Shape of X_train: (3268, 6) & Shape of X_test: (818, 6)\n",
            " Shape of y_train: (3268,) & Shape of y_test: (818,)\n"
          ]
        }
      ]
    },
    {
      "cell_type": "code",
      "source": [
        "# RandomForest Classifier :\n",
        "\n",
        "rf_clf = RandomForestClassifier()\n",
        "\n",
        "rf_clf.fit(X_train_res, y_train_res)\n",
        "y_pred_test_res = rf_clf.predict(X_test_res)\n",
        "y_pred_train_res = rf_clf.predict(X_train_res)"
      ],
      "metadata": {
        "id": "fwDUxieKDYIx"
      },
      "execution_count": 109,
      "outputs": []
    },
    {
      "cell_type": "code",
      "source": [
        "print('Accuracy score of Train after Oversampling: {}'.format(accuracy_score(y_train_res,y_pred_train_res)*100))\n",
        "print('Accuracy score of Test after Oversampling: {}'.format(accuracy_score(y_test_res,y_pred_test_res)*100))"
      ],
      "metadata": {
        "colab": {
          "base_uri": "https://localhost:8080/"
        },
        "id": "D1Og80E4Doot",
        "outputId": "0a18a391-8451-491f-b982-003143f19bbe"
      },
      "execution_count": 110,
      "outputs": [
        {
          "output_type": "stream",
          "name": "stdout",
          "text": [
            "Accuracy score of Train after Oversampling: 100.0\n",
            "Accuracy score of Test after Oversampling: 90.70904645476773\n"
          ]
        }
      ]
    },
    {
      "cell_type": "code",
      "source": [
        "# Hyperparameter Tuning using optuna :\n",
        "\n",
        "def objective(trial):\n",
        "    param_grid = dict(\n",
        "    criterion = trial.suggest_categorical('criterion', ['gini','entropy']),\n",
        "    bootstrap = trial.suggest_categorical('bootstrap',['True','False']),\n",
        "    max_depth = trial.suggest_int('max_depth', 1, 10000),\n",
        "    max_features = trial.suggest_categorical('max_features', ['auto', 'sqrt','log2']),\n",
        "    max_leaf_nodes = trial.suggest_int('max_leaf_nodes', 1, 10000),\n",
        "    n_estimators =  trial.suggest_int('n_estimators', 30, 1000)\n",
        "    \n",
        "                     )\n",
        "    \n",
        "    rf_clf = RandomForestClassifier(**param_grid)\n",
        "    scores = cross_val_score(rf_clf, X_train_res, y_train_res, cv=5, scoring='accuracy')\n",
        "    return scores.mean().round(5)\n",
        "\n",
        "study = optuna.create_study(direction='maximize')\n",
        "\n",
        "\n",
        "study.optimize(objective, n_trials=10, show_progress_bar=True)"
      ],
      "metadata": {
        "colab": {
          "base_uri": "https://localhost:8080/",
          "height": 295,
          "referenced_widgets": [
            "8b4336587d7e45d0a0f3c06125f0300a",
            "935af7e027a84991a6b15faa8e2f7848",
            "e834967c928d41a8bd0a8d4e1014b7fd",
            "4580a7cf934745689b89a59fb8c6f691",
            "daa00924fb6c49b486f594cb35e16835",
            "82fd03176dea4437af6428e69fabf2e5",
            "d11444a1fd084fb39d9830371ac7442c",
            "37e4a611a4584b0b88058efbd19ae908",
            "21570eecb31a4ad2b7949e5d88303098",
            "ef6f9fe5427c4a29a7e24c589d80495f",
            "008e6fe8915346beb73a04678941492a"
          ]
        },
        "id": "LloF6FiIDrLc",
        "outputId": "0ba599a5-5ea3-4a18-9f32-d943ce3e94c7"
      },
      "execution_count": 111,
      "outputs": [
        {
          "output_type": "stream",
          "name": "stderr",
          "text": [
            "\u001b[32m[I 2022-06-15 15:51:13,272]\u001b[0m A new study created in memory with name: no-name-8e52dbb1-93e0-4ea2-a2e9-613b3ea00b2d\u001b[0m\n",
            "/usr/local/lib/python3.7/dist-packages/optuna/progress_bar.py:47: ExperimentalWarning: Progress bar is experimental (supported from v1.2.0). The interface can change in the future.\n",
            "  self._init_valid()\n"
          ]
        },
        {
          "output_type": "display_data",
          "data": {
            "text/plain": [
              "  0%|          | 0/10 [00:00<?, ?it/s]"
            ],
            "application/vnd.jupyter.widget-view+json": {
              "version_major": 2,
              "version_minor": 0,
              "model_id": "8b4336587d7e45d0a0f3c06125f0300a"
            }
          },
          "metadata": {}
        },
        {
          "output_type": "stream",
          "name": "stdout",
          "text": [
            "\u001b[32m[I 2022-06-15 15:51:25,289]\u001b[0m Trial 0 finished with value: 0.89199 and parameters: {'criterion': 'gini', 'bootstrap': 'False', 'max_depth': 2117, 'max_features': 'auto', 'max_leaf_nodes': 996, 'n_estimators': 620}. Best is trial 0 with value: 0.89199.\u001b[0m\n",
            "\u001b[32m[I 2022-06-15 15:51:39,354]\u001b[0m Trial 1 finished with value: 0.89045 and parameters: {'criterion': 'gini', 'bootstrap': 'False', 'max_depth': 5768, 'max_features': 'log2', 'max_leaf_nodes': 8699, 'n_estimators': 712}. Best is trial 0 with value: 0.89199.\u001b[0m\n",
            "\u001b[32m[I 2022-06-15 15:51:51,906]\u001b[0m Trial 2 finished with value: 0.89106 and parameters: {'criterion': 'gini', 'bootstrap': 'False', 'max_depth': 487, 'max_features': 'log2', 'max_leaf_nodes': 9201, 'n_estimators': 635}. Best is trial 0 with value: 0.89199.\u001b[0m\n",
            "\u001b[32m[I 2022-06-15 15:52:12,060]\u001b[0m Trial 3 finished with value: 0.89045 and parameters: {'criterion': 'entropy', 'bootstrap': 'True', 'max_depth': 2169, 'max_features': 'log2', 'max_leaf_nodes': 4621, 'n_estimators': 760}. Best is trial 0 with value: 0.89199.\u001b[0m\n",
            "\u001b[32m[I 2022-06-15 15:52:12,866]\u001b[0m Trial 4 finished with value: 0.89015 and parameters: {'criterion': 'gini', 'bootstrap': 'False', 'max_depth': 7827, 'max_features': 'sqrt', 'max_leaf_nodes': 3022, 'n_estimators': 39}. Best is trial 0 with value: 0.89199.\u001b[0m\n",
            "\u001b[32m[I 2022-06-15 15:52:15,621]\u001b[0m Trial 5 finished with value: 0.88678 and parameters: {'criterion': 'entropy', 'bootstrap': 'False', 'max_depth': 8766, 'max_features': 'log2', 'max_leaf_nodes': 5009, 'n_estimators': 88}. Best is trial 0 with value: 0.89199.\u001b[0m\n",
            "\u001b[32m[I 2022-06-15 15:52:32,919]\u001b[0m Trial 6 finished with value: 0.89107 and parameters: {'criterion': 'gini', 'bootstrap': 'True', 'max_depth': 1217, 'max_features': 'auto', 'max_leaf_nodes': 7654, 'n_estimators': 879}. Best is trial 0 with value: 0.89199.\u001b[0m\n",
            "\u001b[32m[I 2022-06-15 15:52:41,287]\u001b[0m Trial 7 finished with value: 0.8926 and parameters: {'criterion': 'gini', 'bootstrap': 'True', 'max_depth': 2250, 'max_features': 'log2', 'max_leaf_nodes': 3226, 'n_estimators': 430}. Best is trial 7 with value: 0.8926.\u001b[0m\n",
            "\u001b[32m[I 2022-06-15 15:52:46,233]\u001b[0m Trial 8 finished with value: 0.89229 and parameters: {'criterion': 'entropy', 'bootstrap': 'True', 'max_depth': 401, 'max_features': 'sqrt', 'max_leaf_nodes': 3460, 'n_estimators': 186}. Best is trial 7 with value: 0.8926.\u001b[0m\n",
            "\u001b[32m[I 2022-06-15 15:53:09,307]\u001b[0m Trial 9 finished with value: 0.88954 and parameters: {'criterion': 'entropy', 'bootstrap': 'True', 'max_depth': 816, 'max_features': 'log2', 'max_leaf_nodes': 8769, 'n_estimators': 860}. Best is trial 7 with value: 0.8926.\u001b[0m\n"
          ]
        }
      ]
    },
    {
      "cell_type": "code",
      "source": [
        "best_params_rf = study.best_trial.params\n",
        "print('Best parameters:', best_params_rf)\n",
        "print('Best score: {:.2f}%'.format(study.best_value*100))"
      ],
      "metadata": {
        "colab": {
          "base_uri": "https://localhost:8080/"
        },
        "id": "bJTtunGPD8DS",
        "outputId": "6859726b-47e6-414a-9264-c4262585f632"
      },
      "execution_count": 112,
      "outputs": [
        {
          "output_type": "stream",
          "name": "stdout",
          "text": [
            "Best parameters: {'criterion': 'gini', 'bootstrap': 'True', 'max_depth': 2250, 'max_features': 'log2', 'max_leaf_nodes': 3226, 'n_estimators': 430}\n",
            "Best score: 89.26%\n"
          ]
        }
      ]
    },
    {
      "cell_type": "code",
      "source": [
        "rf_clf = RandomForestClassifier(**best_params_rf).fit(X_train_res,y_train_res)\n",
        "y_pred_rf = rf_clf.predict(X_test_res)"
      ],
      "metadata": {
        "id": "XBPgjQ25EzsX"
      },
      "execution_count": 113,
      "outputs": []
    },
    {
      "cell_type": "code",
      "source": [
        "print('Accuracy score of Test: ', accuracy_score(y_test_res, y_pred_rf)*100)"
      ],
      "metadata": {
        "colab": {
          "base_uri": "https://localhost:8080/"
        },
        "id": "AyL8-S9fE9Nr",
        "outputId": "cdc9c26c-dbc5-4429-d92f-928eb6756958"
      },
      "execution_count": 114,
      "outputs": [
        {
          "output_type": "stream",
          "name": "stdout",
          "text": [
            "Accuracy score of Test:  90.83129584352079\n"
          ]
        }
      ]
    },
    {
      "cell_type": "code",
      "source": [
        "print(confusion_matrix(y_test_res, y_pred_rf))"
      ],
      "metadata": {
        "colab": {
          "base_uri": "https://localhost:8080/"
        },
        "id": "SY5StKpSE-8a",
        "outputId": "099a2568-fb40-4028-8a5f-c7684148d61f"
      },
      "execution_count": 115,
      "outputs": [
        {
          "output_type": "stream",
          "name": "stdout",
          "text": [
            "[[126   0   0   0   0   0]\n",
            " [  0 127   0   0   0   0]\n",
            " [  2   1 122  24   1   0]\n",
            " [  1   0  27 101  13   3]\n",
            " [  0   0   0   3 129   0]\n",
            " [  0   0   0   0   0 138]]\n"
          ]
        }
      ]
    },
    {
      "cell_type": "code",
      "source": [
        "print(classification_report(y_test_res, y_pred_rf))"
      ],
      "metadata": {
        "colab": {
          "base_uri": "https://localhost:8080/"
        },
        "id": "Dcqb6AmmFDHx",
        "outputId": "dcd0be6f-f4a9-42b5-8174-40443e70b897"
      },
      "execution_count": 116,
      "outputs": [
        {
          "output_type": "stream",
          "name": "stdout",
          "text": [
            "              precision    recall  f1-score   support\n",
            "\n",
            "           3       0.98      1.00      0.99       126\n",
            "           4       0.99      1.00      1.00       127\n",
            "           5       0.82      0.81      0.82       150\n",
            "           6       0.79      0.70      0.74       145\n",
            "           7       0.90      0.98      0.94       132\n",
            "           8       0.98      1.00      0.99       138\n",
            "\n",
            "    accuracy                           0.91       818\n",
            "   macro avg       0.91      0.91      0.91       818\n",
            "weighted avg       0.91      0.91      0.91       818\n",
            "\n"
          ]
        }
      ]
    },
    {
      "cell_type": "code",
      "source": [
        "# XGB Classifier :\n",
        "# Encoding  the quality [3->0,4->1,5->2,6->3,7->4,8->5]\n",
        "\n",
        "y_train_res  = np.unique(y_train_res, return_inverse = True)[1] \n",
        "print(np.unique(y_train_res))"
      ],
      "metadata": {
        "colab": {
          "base_uri": "https://localhost:8080/"
        },
        "id": "wO9JzCOZFI_A",
        "outputId": "ce93d27d-d482-4009-d935-93a63594f901"
      },
      "execution_count": 121,
      "outputs": [
        {
          "output_type": "stream",
          "name": "stdout",
          "text": [
            "[0 1 2 3 4 5]\n"
          ]
        }
      ]
    },
    {
      "cell_type": "code",
      "source": [
        "y_train_res"
      ],
      "metadata": {
        "colab": {
          "base_uri": "https://localhost:8080/"
        },
        "id": "gcvbWgYkFb5k",
        "outputId": "71f61d71-95b8-44da-f752-fa244f6ce41e"
      },
      "execution_count": 122,
      "outputs": [
        {
          "output_type": "execute_result",
          "data": {
            "text/plain": [
              "array([1, 5, 5, ..., 0, 1, 1])"
            ]
          },
          "metadata": {},
          "execution_count": 122
        }
      ]
    },
    {
      "cell_type": "code",
      "source": [
        "def objective(trial):\n",
        "    n_estimators = trial.suggest_int('n_estimators', 0, 300)\n",
        "    max_depth = trial.suggest_int('max_depth', 1, 20)\n",
        "    min_child_weight = trial.suggest_int('min_child_weight', 1, 20)\n",
        "    learning_rate = trial.suggest_discrete_uniform('learning_rate', 0.1, 0.3, 0.01)\n",
        "    subsample = trial.suggest_discrete_uniform('subsample', 0.5, 0.9, 0.1)\n",
        "    colsample_bytree = trial.suggest_discrete_uniform('colsample_bytree', 0.5, 0.9, 0.1)\n",
        "\n",
        "    xgboost_clf = xgb.XGBClassifier(\n",
        "        objective='binary:logistic',\n",
        "        random_state=42, \n",
        "        n_estimators = n_estimators,\n",
        "        max_depth = max_depth,\n",
        "        min_child_weight = min_child_weight,\n",
        "        subsample = subsample,\n",
        "        learning_rate=learning_rate,\n",
        "        colsample_bytree = colsample_bytree\n",
        "    )\n",
        "\n",
        "    scores = cross_val_score(xgboost_clf, X_train_res, y_train_res, cv=5, scoring='accuracy')\n",
        "    return scores.mean().round(5)\n",
        "\n",
        "study = optuna.create_study(direction='maximize')\n",
        "\n",
        "\n",
        "study.optimize(objective, n_trials=10, show_progress_bar=True)"
      ],
      "metadata": {
        "colab": {
          "base_uri": "https://localhost:8080/",
          "height": 295,
          "referenced_widgets": [
            "2f768e949aef485497b26e1b2d8d8813",
            "e14953106e794d8b962c5fe458761dd2",
            "8e13dbaa127f44e7960a1ed3d533e8b6",
            "f9fb0403f00e4f57af24a45558c6e582",
            "8a575d2c1614491888fccf2f8b22a44f",
            "efc176690954435182615b54e14516a2",
            "4c66f595129c4aeab9c4dc74a726176d",
            "a5ad65ec06fa4230ba05bb4870004cfa",
            "bc21fed8d1b543a686cc29802cad76d1",
            "dd44db26a6d548afae0a13400df5bce1",
            "acd8855787384baaa7976b04d7d51b49"
          ]
        },
        "id": "mYdpznyoGP4l",
        "outputId": "5b4e0e80-1a9b-4287-c590-668cab45d944"
      },
      "execution_count": 123,
      "outputs": [
        {
          "output_type": "stream",
          "name": "stderr",
          "text": [
            "\u001b[32m[I 2022-06-15 16:01:58,115]\u001b[0m A new study created in memory with name: no-name-1db0276a-8bb7-4a6b-b139-5bc77165d5dc\u001b[0m\n",
            "/usr/local/lib/python3.7/dist-packages/optuna/progress_bar.py:47: ExperimentalWarning: Progress bar is experimental (supported from v1.2.0). The interface can change in the future.\n",
            "  self._init_valid()\n"
          ]
        },
        {
          "output_type": "display_data",
          "data": {
            "text/plain": [
              "  0%|          | 0/10 [00:00<?, ?it/s]"
            ],
            "application/vnd.jupyter.widget-view+json": {
              "version_major": 2,
              "version_minor": 0,
              "model_id": "2f768e949aef485497b26e1b2d8d8813"
            }
          },
          "metadata": {}
        },
        {
          "output_type": "stream",
          "name": "stdout",
          "text": [
            "\u001b[32m[I 2022-06-15 16:02:00,754]\u001b[0m Trial 0 finished with value: 0.77969 and parameters: {'n_estimators': 103, 'max_depth': 2, 'min_child_weight': 7, 'learning_rate': 0.18, 'subsample': 0.5, 'colsample_bytree': 0.9}. Best is trial 0 with value: 0.77969.\u001b[0m\n",
            "\u001b[32m[I 2022-06-15 16:02:02,071]\u001b[0m Trial 1 finished with value: 0.75674 and parameters: {'n_estimators': 63, 'max_depth': 2, 'min_child_weight': 16, 'learning_rate': 0.24000000000000002, 'subsample': 0.7, 'colsample_bytree': 0.7}. Best is trial 0 with value: 0.77969.\u001b[0m\n",
            "\u001b[32m[I 2022-06-15 16:02:10,610]\u001b[0m Trial 2 finished with value: 0.88066 and parameters: {'n_estimators': 196, 'max_depth': 19, 'min_child_weight': 8, 'learning_rate': 0.13, 'subsample': 0.8, 'colsample_bytree': 0.5}. Best is trial 2 with value: 0.88066.\u001b[0m\n",
            "\u001b[32m[I 2022-06-15 16:02:18,209]\u001b[0m Trial 3 finished with value: 0.85894 and parameters: {'n_estimators': 232, 'max_depth': 5, 'min_child_weight': 20, 'learning_rate': 0.28, 'subsample': 0.6, 'colsample_bytree': 0.9}. Best is trial 2 with value: 0.88066.\u001b[0m\n",
            "\u001b[32m[I 2022-06-15 16:02:25,975]\u001b[0m Trial 4 finished with value: 0.8926 and parameters: {'n_estimators': 135, 'max_depth': 11, 'min_child_weight': 1, 'learning_rate': 0.19, 'subsample': 0.7, 'colsample_bytree': 0.8}. Best is trial 4 with value: 0.8926.\u001b[0m\n",
            "\u001b[32m[I 2022-06-15 16:02:34,543]\u001b[0m Trial 5 finished with value: 0.88219 and parameters: {'n_estimators': 178, 'max_depth': 12, 'min_child_weight': 5, 'learning_rate': 0.16, 'subsample': 0.6, 'colsample_bytree': 0.7}. Best is trial 4 with value: 0.8926.\u001b[0m\n",
            "\u001b[32m[I 2022-06-15 16:02:34,713]\u001b[0m Trial 6 finished with value: 0.63005 and parameters: {'n_estimators': 4, 'max_depth': 3, 'min_child_weight': 13, 'learning_rate': 0.12000000000000001, 'subsample': 0.9, 'colsample_bytree': 0.7}. Best is trial 4 with value: 0.8926.\u001b[0m\n",
            "\u001b[32m[I 2022-06-15 16:02:43,078]\u001b[0m Trial 7 finished with value: 0.85925 and parameters: {'n_estimators': 191, 'max_depth': 20, 'min_child_weight': 18, 'learning_rate': 0.13, 'subsample': 0.8, 'colsample_bytree': 0.9}. Best is trial 4 with value: 0.8926.\u001b[0m\n",
            "\u001b[32m[I 2022-06-15 16:02:51,402]\u001b[0m Trial 8 finished with value: 0.88158 and parameters: {'n_estimators': 245, 'max_depth': 20, 'min_child_weight': 5, 'learning_rate': 0.3, 'subsample': 0.5, 'colsample_bytree': 0.6}. Best is trial 4 with value: 0.8926.\u001b[0m\n",
            "\u001b[32m[I 2022-06-15 16:03:05,013]\u001b[0m Trial 9 finished with value: 0.88587 and parameters: {'n_estimators': 285, 'max_depth': 12, 'min_child_weight': 4, 'learning_rate': 0.11, 'subsample': 0.9, 'colsample_bytree': 0.8}. Best is trial 4 with value: 0.8926.\u001b[0m\n"
          ]
        }
      ]
    },
    {
      "cell_type": "code",
      "source": [
        "best_params_xgb = study.best_trial.params\n",
        "print('Best parameters:', best_params_xgb)\n",
        "print('Best score: {:.2f}%'.format(study.best_value*100))"
      ],
      "metadata": {
        "colab": {
          "base_uri": "https://localhost:8080/"
        },
        "id": "arLx9tYfGZpI",
        "outputId": "5d1b14c3-0282-4549-9271-e3515ed53ac2"
      },
      "execution_count": 124,
      "outputs": [
        {
          "output_type": "stream",
          "name": "stdout",
          "text": [
            "Best parameters: {'n_estimators': 135, 'max_depth': 11, 'min_child_weight': 1, 'learning_rate': 0.19, 'subsample': 0.7, 'colsample_bytree': 0.8}\n",
            "Best score: 89.26%\n"
          ]
        }
      ]
    },
    {
      "cell_type": "code",
      "source": [
        "xgb_clf = xgb.XGBClassifier(**best_params_xgb).fit(X_train_res,y_train_res)\n",
        "y_pred_xgb = xgb_clf.predict(X_test_res)"
      ],
      "metadata": {
        "id": "g_tRpkJsGdJJ"
      },
      "execution_count": 125,
      "outputs": []
    },
    {
      "cell_type": "code",
      "source": [
        "y_test_res_xgb = np.unique(y_test_res, return_inverse = True)[1] # to encode quality"
      ],
      "metadata": {
        "id": "F0OcqR2oGdQ_"
      },
      "execution_count": 126,
      "outputs": []
    },
    {
      "cell_type": "code",
      "source": [
        "print('Accuracy score of Test: ', accuracy_score(y_test_res_xgb, y_pred_xgb)*100)"
      ],
      "metadata": {
        "colab": {
          "base_uri": "https://localhost:8080/"
        },
        "id": "Q-O3UYXFGdXI",
        "outputId": "c1cafe89-9018-4b20-bf06-8ce70978fcc8"
      },
      "execution_count": 127,
      "outputs": [
        {
          "output_type": "stream",
          "name": "stdout",
          "text": [
            "Accuracy score of Test:  89.73105134474328\n"
          ]
        }
      ]
    },
    {
      "cell_type": "code",
      "source": [
        "print(classification_report(y_test_res_xgb, y_pred_xgb))"
      ],
      "metadata": {
        "colab": {
          "base_uri": "https://localhost:8080/"
        },
        "id": "mCH1TMdyGda6",
        "outputId": "1a66fcf6-5085-46dd-ccac-77aee9003b3e"
      },
      "execution_count": 128,
      "outputs": [
        {
          "output_type": "stream",
          "name": "stdout",
          "text": [
            "              precision    recall  f1-score   support\n",
            "\n",
            "           0       0.95      1.00      0.98       126\n",
            "           1       1.00      1.00      1.00       127\n",
            "           2       0.81      0.76      0.78       150\n",
            "           3       0.75      0.69      0.72       145\n",
            "           4       0.90      0.98      0.94       132\n",
            "           5       0.98      1.00      0.99       138\n",
            "\n",
            "    accuracy                           0.90       818\n",
            "   macro avg       0.90      0.90      0.90       818\n",
            "weighted avg       0.89      0.90      0.89       818\n",
            "\n"
          ]
        }
      ]
    },
    {
      "cell_type": "code",
      "source": [
        "# LGBM Classifier :\n",
        "\n",
        "def objective(trial):\n",
        "    param_grid = dict(n_estimators=trial.suggest_int('n_estimators', 20, 1000, 10), \n",
        "                      learning_rate=trial.suggest_float('learning_rate', 0, 1), \n",
        "                      max_depth=trial.suggest_int('max_depth', 3, 12))\n",
        "    clf = LGBMClassifier(**param_grid)\n",
        "    scores = cross_val_score(clf, X_train_res, y_train_res, cv=5, scoring='accuracy')\n",
        "    return scores.mean().round(5)\n",
        "\n",
        "study = optuna.create_study(direction='maximize')\n",
        "\n",
        "\n",
        "study.optimize(objective, n_trials=10, show_progress_bar=True)"
      ],
      "metadata": {
        "colab": {
          "base_uri": "https://localhost:8080/",
          "height": 295,
          "referenced_widgets": [
            "1d08339dd55e4baca6ff828ada45d571",
            "3f790f213a9f433c891fd1979159fc13",
            "0b1f2b0719c4487fb5750cad493112b7",
            "bcb75669b0b6408b96b412cd6db8e596",
            "10333f9ad6f14d4da31a2c46bfc31c31",
            "8d37cf6843cb4c45b2340192fd7d38ce",
            "68bc0c7ac4ca424d830aa5c8288f6507",
            "00971966e9044f82871adfe24ff82344",
            "af9a813fbb354d7b92c1f6333d017fb7",
            "3f5759643b4b439d9e6396fe0289ff31",
            "dd324f53bfbc459881ed1acba80c0ea7"
          ]
        },
        "id": "Te0lyicQGpwt",
        "outputId": "6663ed25-4682-4772-d22d-ae8cdc99f8a2"
      },
      "execution_count": 129,
      "outputs": [
        {
          "output_type": "stream",
          "name": "stderr",
          "text": [
            "\u001b[32m[I 2022-06-15 16:03:56,092]\u001b[0m A new study created in memory with name: no-name-3752e304-d80f-49d8-bb94-50cd1f03d93c\u001b[0m\n",
            "/usr/local/lib/python3.7/dist-packages/optuna/progress_bar.py:47: ExperimentalWarning: Progress bar is experimental (supported from v1.2.0). The interface can change in the future.\n",
            "  self._init_valid()\n"
          ]
        },
        {
          "output_type": "display_data",
          "data": {
            "text/plain": [
              "  0%|          | 0/10 [00:00<?, ?it/s]"
            ],
            "application/vnd.jupyter.widget-view+json": {
              "version_major": 2,
              "version_minor": 0,
              "model_id": "1d08339dd55e4baca6ff828ada45d571"
            }
          },
          "metadata": {}
        },
        {
          "output_type": "stream",
          "name": "stdout",
          "text": [
            "\u001b[32m[I 2022-06-15 16:04:01,383]\u001b[0m Trial 0 finished with value: 0.89168 and parameters: {'n_estimators': 250, 'learning_rate': 0.3131716080068413, 'max_depth': 9}. Best is trial 0 with value: 0.89168.\u001b[0m\n",
            "\u001b[32m[I 2022-06-15 16:04:06,259]\u001b[0m Trial 1 finished with value: 0.88862 and parameters: {'n_estimators': 500, 'learning_rate': 0.8229352948477289, 'max_depth': 5}. Best is trial 0 with value: 0.89168.\u001b[0m\n",
            "\u001b[32m[I 2022-06-15 16:04:12,494]\u001b[0m Trial 2 finished with value: 0.89168 and parameters: {'n_estimators': 760, 'learning_rate': 0.8825267338429799, 'max_depth': 6}. Best is trial 0 with value: 0.89168.\u001b[0m\n",
            "\u001b[32m[I 2022-06-15 16:04:14,709]\u001b[0m Trial 3 finished with value: 0.89291 and parameters: {'n_estimators': 100, 'learning_rate': 0.6957554306185878, 'max_depth': 11}. Best is trial 3 with value: 0.89291.\u001b[0m\n",
            "\u001b[32m[I 2022-06-15 16:04:19,314]\u001b[0m Trial 4 finished with value: 0.89168 and parameters: {'n_estimators': 320, 'learning_rate': 0.5291641303369807, 'max_depth': 7}. Best is trial 3 with value: 0.89291.\u001b[0m\n",
            "\u001b[32m[I 2022-06-15 16:04:26,279]\u001b[0m Trial 5 finished with value: 0.8877 and parameters: {'n_estimators': 930, 'learning_rate': 0.9970978767994249, 'max_depth': 11}. Best is trial 3 with value: 0.89291.\u001b[0m\n",
            "\u001b[32m[I 2022-06-15 16:04:33,184]\u001b[0m Trial 6 finished with value: 0.88862 and parameters: {'n_estimators': 540, 'learning_rate': 0.3918872347560537, 'max_depth': 10}. Best is trial 3 with value: 0.89291.\u001b[0m\n",
            "\u001b[32m[I 2022-06-15 16:04:40,402]\u001b[0m Trial 7 finished with value: 0.88158 and parameters: {'n_estimators': 260, 'learning_rate': 0.028938009576203627, 'max_depth': 9}. Best is trial 3 with value: 0.89291.\u001b[0m\n",
            "\u001b[32m[I 2022-06-15 16:04:48,190]\u001b[0m Trial 8 finished with value: 0.88984 and parameters: {'n_estimators': 1000, 'learning_rate': 0.8638119140540241, 'max_depth': 4}. Best is trial 3 with value: 0.89291.\u001b[0m\n",
            "\u001b[32m[I 2022-06-15 16:04:54,398]\u001b[0m Trial 9 finished with value: 0.89137 and parameters: {'n_estimators': 500, 'learning_rate': 0.47044001865773744, 'max_depth': 7}. Best is trial 3 with value: 0.89291.\u001b[0m\n"
          ]
        }
      ]
    },
    {
      "cell_type": "code",
      "source": [
        "best_params_lgb = study.best_trial.params\n",
        "print('Best parameters:', best_params_lgb)\n",
        "print('Best score: {:.2f}%'.format(study.best_value*100))"
      ],
      "metadata": {
        "colab": {
          "base_uri": "https://localhost:8080/"
        },
        "id": "s0Sscl92GpzY",
        "outputId": "f588146f-ae42-4c20-a85a-b124eb79e71a"
      },
      "execution_count": 130,
      "outputs": [
        {
          "output_type": "stream",
          "name": "stdout",
          "text": [
            "Best parameters: {'n_estimators': 100, 'learning_rate': 0.6957554306185878, 'max_depth': 11}\n",
            "Best score: 89.29%\n"
          ]
        }
      ]
    },
    {
      "cell_type": "code",
      "source": [
        "lgb_clf = LGBMClassifier(**best_params_lgb).fit(X_train_res,y_train_res)\n",
        "y_pred_lgb = lgb_clf.predict(X_test_res)"
      ],
      "metadata": {
        "id": "ZPmh8RDhGp4P"
      },
      "execution_count": 131,
      "outputs": []
    },
    {
      "cell_type": "code",
      "source": [
        "y_test_res_lgb = np.unique(y_test_res, return_inverse = True)[1] "
      ],
      "metadata": {
        "id": "uha5awSoGp6x"
      },
      "execution_count": 132,
      "outputs": []
    },
    {
      "cell_type": "code",
      "source": [
        "print('Accuracy score of Test: ', accuracy_score(y_test_res_lgb, y_pred_lgb)*100)"
      ],
      "metadata": {
        "colab": {
          "base_uri": "https://localhost:8080/"
        },
        "id": "WJWu-UYWGp9R",
        "outputId": "1e105077-96e4-4ad6-e061-539c0429b702"
      },
      "execution_count": 133,
      "outputs": [
        {
          "output_type": "stream",
          "name": "stdout",
          "text": [
            "Accuracy score of Test:  90.2200488997555\n"
          ]
        }
      ]
    },
    {
      "cell_type": "code",
      "source": [
        "print(classification_report(y_test_res_lgb, y_pred_lgb))"
      ],
      "metadata": {
        "colab": {
          "base_uri": "https://localhost:8080/"
        },
        "id": "-Pi_NFXtGp__",
        "outputId": "3412c299-9988-48cd-87d1-ee0976f77623"
      },
      "execution_count": 134,
      "outputs": [
        {
          "output_type": "stream",
          "name": "stdout",
          "text": [
            "              precision    recall  f1-score   support\n",
            "\n",
            "           0       0.97      1.00      0.98       126\n",
            "           1       1.00      1.00      1.00       127\n",
            "           2       0.80      0.81      0.80       150\n",
            "           3       0.78      0.67      0.72       145\n",
            "           4       0.89      0.98      0.93       132\n",
            "           5       0.99      1.00      0.99       138\n",
            "\n",
            "    accuracy                           0.90       818\n",
            "   macro avg       0.90      0.91      0.91       818\n",
            "weighted avg       0.90      0.90      0.90       818\n",
            "\n"
          ]
        }
      ]
    },
    {
      "cell_type": "code",
      "source": [
        "# Voting Classifier :\n",
        "\n",
        "voting_clf = VotingClassifier([('rf',rf_clf),('xgb',xgb_clf),('lgb',lgb_clf)],verbose=True)\n",
        "voting_clf.fit(X_train_res,y_train_res)\n",
        "voting_clf_results = cross_val_score(estimator = voting_clf, X = X_train_res, y = y_train_res, cv = 5)\n",
        "voting_clf_pred = voting_clf.predict(X_test_res)"
      ],
      "metadata": {
        "colab": {
          "base_uri": "https://localhost:8080/"
        },
        "id": "t6KBCU8-GqCo",
        "outputId": "1faf2882-19cc-4e2e-b0e9-fee2d0bdccb3"
      },
      "execution_count": 135,
      "outputs": [
        {
          "output_type": "stream",
          "name": "stdout",
          "text": [
            "[Voting] ....................... (1 of 3) Processing rf, total=   1.8s\n",
            "[Voting] ...................... (2 of 3) Processing xgb, total=   1.9s\n",
            "[Voting] ...................... (3 of 3) Processing lgb, total=   0.5s\n",
            "[Voting] ....................... (1 of 3) Processing rf, total=   1.6s\n",
            "[Voting] ...................... (2 of 3) Processing xgb, total=   1.5s\n",
            "[Voting] ...................... (3 of 3) Processing lgb, total=   0.4s\n",
            "[Voting] ....................... (1 of 3) Processing rf, total=   1.6s\n",
            "[Voting] ...................... (2 of 3) Processing xgb, total=   1.5s\n",
            "[Voting] ...................... (3 of 3) Processing lgb, total=   0.4s\n",
            "[Voting] ....................... (1 of 3) Processing rf, total=   1.6s\n",
            "[Voting] ...................... (2 of 3) Processing xgb, total=   1.5s\n",
            "[Voting] ...................... (3 of 3) Processing lgb, total=   0.4s\n",
            "[Voting] ....................... (1 of 3) Processing rf, total=   1.5s\n",
            "[Voting] ...................... (2 of 3) Processing xgb, total=   1.5s\n",
            "[Voting] ...................... (3 of 3) Processing lgb, total=   0.4s\n",
            "[Voting] ....................... (1 of 3) Processing rf, total=   1.6s\n",
            "[Voting] ...................... (2 of 3) Processing xgb, total=   1.5s\n",
            "[Voting] ...................... (3 of 3) Processing lgb, total=   0.4s\n"
          ]
        }
      ]
    },
    {
      "cell_type": "code",
      "source": [
        "y_test_res_voting = np.unique(y_test_res, return_inverse = True)[1] \n",
        "print('Accuracy score of Test: {}'.format(accuracy_score(y_test_res_voting,voting_clf_pred)*100))"
      ],
      "metadata": {
        "colab": {
          "base_uri": "https://localhost:8080/"
        },
        "id": "CuPVNUWTGqFG",
        "outputId": "4f5c4854-010c-4482-91f7-95804e5dd068"
      },
      "execution_count": 136,
      "outputs": [
        {
          "output_type": "stream",
          "name": "stdout",
          "text": [
            "Accuracy score of Test: 90.34229828850856\n"
          ]
        }
      ]
    },
    {
      "cell_type": "code",
      "source": [
        "print(confusion_matrix(y_test_res_voting, voting_clf_pred))"
      ],
      "metadata": {
        "colab": {
          "base_uri": "https://localhost:8080/"
        },
        "id": "zVeyZaEBGqIw",
        "outputId": "aa09e2fd-5e5d-45ca-c513-c35a9106a75e"
      },
      "execution_count": 137,
      "outputs": [
        {
          "output_type": "stream",
          "name": "stdout",
          "text": [
            "[[126   0   0   0   0   0]\n",
            " [  0 127   0   0   0   0]\n",
            " [  2   0 119  27   2   0]\n",
            " [  3   0  26 100  13   3]\n",
            " [  0   0   0   3 129   0]\n",
            " [  0   0   0   0   0 138]]\n"
          ]
        }
      ]
    },
    {
      "cell_type": "code",
      "source": [
        "print(classification_report(y_test_res_voting, voting_clf_pred))"
      ],
      "metadata": {
        "colab": {
          "base_uri": "https://localhost:8080/"
        },
        "id": "V_HB7yxrHZ7-",
        "outputId": "1c5150b1-5723-4ade-a7fc-db01db90c072"
      },
      "execution_count": 139,
      "outputs": [
        {
          "output_type": "stream",
          "name": "stdout",
          "text": [
            "              precision    recall  f1-score   support\n",
            "\n",
            "           0       0.96      1.00      0.98       126\n",
            "           1       1.00      1.00      1.00       127\n",
            "           2       0.82      0.79      0.81       150\n",
            "           3       0.77      0.69      0.73       145\n",
            "           4       0.90      0.98      0.93       132\n",
            "           5       0.98      1.00      0.99       138\n",
            "\n",
            "    accuracy                           0.90       818\n",
            "   macro avg       0.90      0.91      0.91       818\n",
            "weighted avg       0.90      0.90      0.90       818\n",
            "\n"
          ]
        }
      ]
    },
    {
      "cell_type": "code",
      "source": [
        "rf = accuracy_score(y_test_res,y_pred_rf)*100\n",
        "xgb = accuracy_score(y_test_res_xgb,y_pred_xgb)*100\n",
        "lgb = accuracy_score(y_test_res_lgb,y_pred_lgb)*100\n",
        "voting = accuracy_score(y_test_res_voting,voting_clf_pred)*100\n",
        "\n",
        "scores = [rf,xgb,lgb,voting]\n",
        "labels = ['Random Forest Classifier', 'XGB Classifier','LGB Classifier', 'Voting Classifier']\n",
        "accs = {'Accuracy': scores}\n",
        "df = pd.DataFrame(accs,index=labels)\n",
        "df"
      ],
      "metadata": {
        "colab": {
          "base_uri": "https://localhost:8080/",
          "height": 175
        },
        "id": "W_EA8v9aHgPq",
        "outputId": "2887c23c-4724-49ac-b339-cad9dbe46219"
      },
      "execution_count": 140,
      "outputs": [
        {
          "output_type": "execute_result",
          "data": {
            "text/plain": [
              "                           Accuracy\n",
              "Random Forest Classifier  90.831296\n",
              "XGB Classifier            89.731051\n",
              "LGB Classifier            90.220049\n",
              "Voting Classifier         90.342298"
            ],
            "text/html": [
              "\n",
              "  <div id=\"df-11124c2f-bb39-454e-bb23-d01ac6d109d1\">\n",
              "    <div class=\"colab-df-container\">\n",
              "      <div>\n",
              "<style scoped>\n",
              "    .dataframe tbody tr th:only-of-type {\n",
              "        vertical-align: middle;\n",
              "    }\n",
              "\n",
              "    .dataframe tbody tr th {\n",
              "        vertical-align: top;\n",
              "    }\n",
              "\n",
              "    .dataframe thead th {\n",
              "        text-align: right;\n",
              "    }\n",
              "</style>\n",
              "<table border=\"1\" class=\"dataframe\">\n",
              "  <thead>\n",
              "    <tr style=\"text-align: right;\">\n",
              "      <th></th>\n",
              "      <th>Accuracy</th>\n",
              "    </tr>\n",
              "  </thead>\n",
              "  <tbody>\n",
              "    <tr>\n",
              "      <th>Random Forest Classifier</th>\n",
              "      <td>90.831296</td>\n",
              "    </tr>\n",
              "    <tr>\n",
              "      <th>XGB Classifier</th>\n",
              "      <td>89.731051</td>\n",
              "    </tr>\n",
              "    <tr>\n",
              "      <th>LGB Classifier</th>\n",
              "      <td>90.220049</td>\n",
              "    </tr>\n",
              "    <tr>\n",
              "      <th>Voting Classifier</th>\n",
              "      <td>90.342298</td>\n",
              "    </tr>\n",
              "  </tbody>\n",
              "</table>\n",
              "</div>\n",
              "      <button class=\"colab-df-convert\" onclick=\"convertToInteractive('df-11124c2f-bb39-454e-bb23-d01ac6d109d1')\"\n",
              "              title=\"Convert this dataframe to an interactive table.\"\n",
              "              style=\"display:none;\">\n",
              "        \n",
              "  <svg xmlns=\"http://www.w3.org/2000/svg\" height=\"24px\"viewBox=\"0 0 24 24\"\n",
              "       width=\"24px\">\n",
              "    <path d=\"M0 0h24v24H0V0z\" fill=\"none\"/>\n",
              "    <path d=\"M18.56 5.44l.94 2.06.94-2.06 2.06-.94-2.06-.94-.94-2.06-.94 2.06-2.06.94zm-11 1L8.5 8.5l.94-2.06 2.06-.94-2.06-.94L8.5 2.5l-.94 2.06-2.06.94zm10 10l.94 2.06.94-2.06 2.06-.94-2.06-.94-.94-2.06-.94 2.06-2.06.94z\"/><path d=\"M17.41 7.96l-1.37-1.37c-.4-.4-.92-.59-1.43-.59-.52 0-1.04.2-1.43.59L10.3 9.45l-7.72 7.72c-.78.78-.78 2.05 0 2.83L4 21.41c.39.39.9.59 1.41.59.51 0 1.02-.2 1.41-.59l7.78-7.78 2.81-2.81c.8-.78.8-2.07 0-2.86zM5.41 20L4 18.59l7.72-7.72 1.47 1.35L5.41 20z\"/>\n",
              "  </svg>\n",
              "      </button>\n",
              "      \n",
              "  <style>\n",
              "    .colab-df-container {\n",
              "      display:flex;\n",
              "      flex-wrap:wrap;\n",
              "      gap: 12px;\n",
              "    }\n",
              "\n",
              "    .colab-df-convert {\n",
              "      background-color: #E8F0FE;\n",
              "      border: none;\n",
              "      border-radius: 50%;\n",
              "      cursor: pointer;\n",
              "      display: none;\n",
              "      fill: #1967D2;\n",
              "      height: 32px;\n",
              "      padding: 0 0 0 0;\n",
              "      width: 32px;\n",
              "    }\n",
              "\n",
              "    .colab-df-convert:hover {\n",
              "      background-color: #E2EBFA;\n",
              "      box-shadow: 0px 1px 2px rgba(60, 64, 67, 0.3), 0px 1px 3px 1px rgba(60, 64, 67, 0.15);\n",
              "      fill: #174EA6;\n",
              "    }\n",
              "\n",
              "    [theme=dark] .colab-df-convert {\n",
              "      background-color: #3B4455;\n",
              "      fill: #D2E3FC;\n",
              "    }\n",
              "\n",
              "    [theme=dark] .colab-df-convert:hover {\n",
              "      background-color: #434B5C;\n",
              "      box-shadow: 0px 1px 3px 1px rgba(0, 0, 0, 0.15);\n",
              "      filter: drop-shadow(0px 1px 2px rgba(0, 0, 0, 0.3));\n",
              "      fill: #FFFFFF;\n",
              "    }\n",
              "  </style>\n",
              "\n",
              "      <script>\n",
              "        const buttonEl =\n",
              "          document.querySelector('#df-11124c2f-bb39-454e-bb23-d01ac6d109d1 button.colab-df-convert');\n",
              "        buttonEl.style.display =\n",
              "          google.colab.kernel.accessAllowed ? 'block' : 'none';\n",
              "\n",
              "        async function convertToInteractive(key) {\n",
              "          const element = document.querySelector('#df-11124c2f-bb39-454e-bb23-d01ac6d109d1');\n",
              "          const dataTable =\n",
              "            await google.colab.kernel.invokeFunction('convertToInteractive',\n",
              "                                                     [key], {});\n",
              "          if (!dataTable) return;\n",
              "\n",
              "          const docLinkHtml = 'Like what you see? Visit the ' +\n",
              "            '<a target=\"_blank\" href=https://colab.research.google.com/notebooks/data_table.ipynb>data table notebook</a>'\n",
              "            + ' to learn more about interactive tables.';\n",
              "          element.innerHTML = '';\n",
              "          dataTable['output_type'] = 'display_data';\n",
              "          await google.colab.output.renderOutput(dataTable, element);\n",
              "          const docLink = document.createElement('div');\n",
              "          docLink.innerHTML = docLinkHtml;\n",
              "          element.appendChild(docLink);\n",
              "        }\n",
              "      </script>\n",
              "    </div>\n",
              "  </div>\n",
              "  "
            ]
          },
          "metadata": {},
          "execution_count": 140
        }
      ]
    },
    {
      "cell_type": "code",
      "source": [
        "ax = sns.heatmap(df,annot=True,fmt=\"1f\")"
      ],
      "metadata": {
        "colab": {
          "base_uri": "https://localhost:8080/",
          "height": 320
        },
        "id": "Wnyu5KAnHtcl",
        "outputId": "5910a599-d06d-4ed3-e014-171dd8907e8c"
      },
      "execution_count": 141,
      "outputs": [
        {
          "output_type": "display_data",
          "data": {
            "text/plain": [
              "<Figure size 864x360 with 2 Axes>"
            ],
            "image/png": "[encoded data removed]"
          },
          "metadata": {
            "needs_background": "light"
          }
        }
      ]
    },
    {
      "cell_type": "code",
      "source": [
        "# Building a Predictive System :\n",
        "\n",
        "input_data = (0.77,0.34,77,0.82,0.46,8.7)\n",
        "\n",
        "# changing the input data to a numpy array\n",
        "input_data_as_numpy_array = np.asarray(input_data)\n",
        "\n",
        "# reshape the data as we are predicting the label for only one instance\n",
        "input_data_reshaped = input_data_as_numpy_array.reshape(1,-1)\n",
        "\n",
        "prediction = rf_clf.predict(input_data_reshaped)\n",
        "print(prediction)\n",
        "\n",
        "if (prediction[0]==1):\n",
        "  print('Good Quality Wine')\n",
        "else:\n",
        "  print('Bad Quality Wine')"
      ],
      "metadata": {
        "colab": {
          "base_uri": "https://localhost:8080/"
        },
        "id": "eUjC3ibtH81t",
        "outputId": "b21ac6c1-06a7-451b-8204-2e7bcaf1ae5d"
      },
      "execution_count": 144,
      "outputs": [
        {
          "output_type": "stream",
          "name": "stdout",
          "text": [
            "[5]\n",
            "Bad Quality Wine\n"
          ]
        }
      ]
    },
    {
      "cell_type": "code",
      "source": [
        ""
      ],
      "metadata": {
        "id": "NcZYhbOlIjfs"
      },
      "execution_count": null,
      "outputs": []
    }
  ]
}